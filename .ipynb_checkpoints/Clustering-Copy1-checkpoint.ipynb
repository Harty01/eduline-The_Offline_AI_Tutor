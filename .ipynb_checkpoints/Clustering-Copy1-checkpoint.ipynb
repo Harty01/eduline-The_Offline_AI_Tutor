{
 "cells": [
  {
   "cell_type": "code",
   "execution_count": 1,
   "id": "ef0a1382-ffd5-4c15-8733-912cdb0e6a8a",
   "metadata": {},
   "outputs": [],
   "source": [
    "from sklearn.cluster import KMeans\n",
    "import pandas as pd\n",
    "import numpy as np\n",
    "import matplotlib.pyplot as plt\n",
    "import seaborn as sns"
   ]
  },
  {
   "cell_type": "code",
   "execution_count": 2,
   "id": "41d7ad0e-1406-4219-8135-8fd28e9fec31",
   "metadata": {},
   "outputs": [],
   "source": [
    "df=pd.read_csv(r\"C:\\Users\\hp\\Desktop\\Data_science\\AI FOLDER\\jamb_biology_sample.csv\")"
   ]
  },
  {
   "cell_type": "code",
   "execution_count": 3,
   "id": "3c9cffe7-2752-44f7-8f5b-8d4d7437775b",
   "metadata": {},
   "outputs": [
    {
     "name": "stdout",
     "output_type": "stream",
     "text": [
      "<class 'pandas.core.frame.DataFrame'>\n",
      "RangeIndex: 6 entries, 0 to 5\n",
      "Data columns (total 5 columns):\n",
      " #   Column           Non-Null Count  Dtype  \n",
      "---  ------           --------------  -----  \n",
      " 0   Unnamed: 0       6 non-null      object \n",
      " 1   Question_Number  5 non-null      float64\n",
      " 2   Question         5 non-null      object \n",
      " 3   Options          5 non-null      object \n",
      " 4   Answer           5 non-null      object \n",
      "dtypes: float64(1), object(4)\n",
      "memory usage: 372.0+ bytes\n"
     ]
    }
   ],
   "source": [
    "df.info()"
   ]
  },
  {
   "cell_type": "code",
   "execution_count": 4,
   "id": "37c784bf-86dd-4ae8-a46b-d6c6c959cb69",
   "metadata": {},
   "outputs": [],
   "source": [
    "df1=pd.read_csv('SAMPLE.CSV')"
   ]
  },
  {
   "cell_type": "code",
   "execution_count": 5,
   "id": "eaedadd5-1718-4212-bcfe-43ba71cfe9ab",
   "metadata": {},
   "outputs": [
    {
     "name": "stdout",
     "output_type": "stream",
     "text": [
      "<class 'pandas.core.frame.DataFrame'>\n",
      "RangeIndex: 8 entries, 0 to 7\n",
      "Data columns (total 6 columns):\n",
      " #   Column           Non-Null Count  Dtype \n",
      "---  ------           --------------  ----- \n",
      " 0   Subject          8 non-null      object\n",
      " 1   Year             8 non-null      int64 \n",
      " 2   Question_Number  8 non-null      int64 \n",
      " 3   Question         8 non-null      object\n",
      " 4   Options          8 non-null      object\n",
      " 5   Answer           8 non-null      object\n",
      "dtypes: int64(2), object(4)\n",
      "memory usage: 516.0+ bytes\n"
     ]
    }
   ],
   "source": [
    "df1.info()"
   ]
  },
  {
   "cell_type": "code",
   "execution_count": 6,
   "id": "59e2ebb5-f5fb-4afb-83a4-780ba5146713",
   "metadata": {},
   "outputs": [
    {
     "data": {
      "text/plain": [
       "Index(['Subject', 'Year', 'Question_Number', 'Question', 'Options', 'Answer'], dtype='object')"
      ]
     },
     "execution_count": 6,
     "metadata": {},
     "output_type": "execute_result"
    }
   ],
   "source": [
    "df1.columns"
   ]
  },
  {
   "cell_type": "code",
   "execution_count": 7,
   "id": "348d0e3f-b82e-4bda-a0bd-d68c1c16eae3",
   "metadata": {},
   "outputs": [
    {
     "data": {
      "text/plain": [
       "Subject            0\n",
       "Year               0\n",
       "Question_Number    0\n",
       "Question           0\n",
       "Options            0\n",
       "Answer             0\n",
       "dtype: int64"
      ]
     },
     "execution_count": 7,
     "metadata": {},
     "output_type": "execute_result"
    }
   ],
   "source": [
    "df1.isnull().sum()"
   ]
  },
  {
   "cell_type": "code",
   "execution_count": 8,
   "id": "68d32bf0-996e-4cc7-941d-c2f8340b2d40",
   "metadata": {},
   "outputs": [
    {
     "name": "stdout",
     "output_type": "stream",
     "text": [
      "Requirement already satisfied: sentence-transformers in c:\\users\\hp\\appdata\\local\\programs\\python\\python313\\lib\\site-packages (5.1.0)\n",
      "Requirement already satisfied: transformers<5.0.0,>=4.41.0 in c:\\users\\hp\\appdata\\local\\programs\\python\\python313\\lib\\site-packages (from sentence-transformers) (4.55.2)\n",
      "Requirement already satisfied: tqdm in c:\\users\\hp\\appdata\\local\\programs\\python\\python313\\lib\\site-packages (from sentence-transformers) (4.67.1)\n",
      "Requirement already satisfied: torch>=1.11.0 in c:\\users\\hp\\appdata\\local\\programs\\python\\python313\\lib\\site-packages (from sentence-transformers) (2.8.0)\n",
      "Requirement already satisfied: scikit-learn in c:\\users\\hp\\appdata\\local\\programs\\python\\python313\\lib\\site-packages (from sentence-transformers) (1.6.1)\n",
      "Requirement already satisfied: scipy in c:\\users\\hp\\appdata\\local\\programs\\python\\python313\\lib\\site-packages (from sentence-transformers) (1.15.2)\n",
      "Requirement already satisfied: huggingface-hub>=0.20.0 in c:\\users\\hp\\appdata\\local\\programs\\python\\python313\\lib\\site-packages (from sentence-transformers) (0.34.4)\n",
      "Requirement already satisfied: Pillow in c:\\users\\hp\\appdata\\local\\programs\\python\\python313\\lib\\site-packages (from sentence-transformers) (11.1.0)\n",
      "Requirement already satisfied: typing_extensions>=4.5.0 in c:\\users\\hp\\appdata\\local\\programs\\python\\python313\\lib\\site-packages (from sentence-transformers) (4.12.2)\n",
      "Requirement already satisfied: filelock in c:\\users\\hp\\appdata\\local\\programs\\python\\python313\\lib\\site-packages (from transformers<5.0.0,>=4.41.0->sentence-transformers) (3.19.1)\n",
      "Requirement already satisfied: numpy>=1.17 in c:\\users\\hp\\appdata\\local\\programs\\python\\python313\\lib\\site-packages (from transformers<5.0.0,>=4.41.0->sentence-transformers) (2.2.3)\n",
      "Requirement already satisfied: packaging>=20.0 in c:\\users\\hp\\appdata\\local\\programs\\python\\python313\\lib\\site-packages (from transformers<5.0.0,>=4.41.0->sentence-transformers) (24.2)\n",
      "Requirement already satisfied: pyyaml>=5.1 in c:\\users\\hp\\appdata\\local\\programs\\python\\python313\\lib\\site-packages (from transformers<5.0.0,>=4.41.0->sentence-transformers) (6.0.2)\n",
      "Requirement already satisfied: regex!=2019.12.17 in c:\\users\\hp\\appdata\\local\\programs\\python\\python313\\lib\\site-packages (from transformers<5.0.0,>=4.41.0->sentence-transformers) (2025.7.34)\n",
      "Requirement already satisfied: requests in c:\\users\\hp\\appdata\\local\\programs\\python\\python313\\lib\\site-packages (from transformers<5.0.0,>=4.41.0->sentence-transformers) (2.32.3)\n",
      "Requirement already satisfied: tokenizers<0.22,>=0.21 in c:\\users\\hp\\appdata\\local\\programs\\python\\python313\\lib\\site-packages (from transformers<5.0.0,>=4.41.0->sentence-transformers) (0.21.4)\n",
      "Requirement already satisfied: safetensors>=0.4.3 in c:\\users\\hp\\appdata\\local\\programs\\python\\python313\\lib\\site-packages (from transformers<5.0.0,>=4.41.0->sentence-transformers) (0.6.2)\n",
      "Requirement already satisfied: fsspec>=2023.5.0 in c:\\users\\hp\\appdata\\local\\programs\\python\\python313\\lib\\site-packages (from huggingface-hub>=0.20.0->sentence-transformers) (2025.7.0)\n",
      "Requirement already satisfied: sympy>=1.13.3 in c:\\users\\hp\\appdata\\local\\programs\\python\\python313\\lib\\site-packages (from torch>=1.11.0->sentence-transformers) (1.14.0)\n",
      "Requirement already satisfied: networkx in c:\\users\\hp\\appdata\\local\\programs\\python\\python313\\lib\\site-packages (from torch>=1.11.0->sentence-transformers) (3.5)\n",
      "Requirement already satisfied: jinja2 in c:\\users\\hp\\appdata\\local\\programs\\python\\python313\\lib\\site-packages (from torch>=1.11.0->sentence-transformers) (3.1.5)\n",
      "Requirement already satisfied: setuptools in c:\\users\\hp\\appdata\\local\\programs\\python\\python313\\lib\\site-packages (from torch>=1.11.0->sentence-transformers) (75.8.0)\n",
      "Requirement already satisfied: mpmath<1.4,>=1.1.0 in c:\\users\\hp\\appdata\\local\\programs\\python\\python313\\lib\\site-packages (from sympy>=1.13.3->torch>=1.11.0->sentence-transformers) (1.3.0)\n",
      "Requirement already satisfied: colorama in c:\\users\\hp\\appdata\\local\\programs\\python\\python313\\lib\\site-packages (from tqdm->sentence-transformers) (0.4.6)\n",
      "Requirement already satisfied: MarkupSafe>=2.0 in c:\\users\\hp\\appdata\\local\\programs\\python\\python313\\lib\\site-packages (from jinja2->torch>=1.11.0->sentence-transformers) (3.0.2)\n",
      "Requirement already satisfied: charset-normalizer<4,>=2 in c:\\users\\hp\\appdata\\local\\programs\\python\\python313\\lib\\site-packages (from requests->transformers<5.0.0,>=4.41.0->sentence-transformers) (3.4.1)\n",
      "Requirement already satisfied: idna<4,>=2.5 in c:\\users\\hp\\appdata\\local\\programs\\python\\python313\\lib\\site-packages (from requests->transformers<5.0.0,>=4.41.0->sentence-transformers) (3.10)\n",
      "Requirement already satisfied: urllib3<3,>=1.21.1 in c:\\users\\hp\\appdata\\local\\programs\\python\\python313\\lib\\site-packages (from requests->transformers<5.0.0,>=4.41.0->sentence-transformers) (2.3.0)\n",
      "Requirement already satisfied: certifi>=2017.4.17 in c:\\users\\hp\\appdata\\local\\programs\\python\\python313\\lib\\site-packages (from requests->transformers<5.0.0,>=4.41.0->sentence-transformers) (2025.1.31)\n",
      "Requirement already satisfied: joblib>=1.2.0 in c:\\users\\hp\\appdata\\local\\programs\\python\\python313\\lib\\site-packages (from scikit-learn->sentence-transformers) (1.4.2)\n",
      "Requirement already satisfied: threadpoolctl>=3.1.0 in c:\\users\\hp\\appdata\\local\\programs\\python\\python313\\lib\\site-packages (from scikit-learn->sentence-transformers) (3.6.0)\n"
     ]
    }
   ],
   "source": [
    "!pip install sentence-transformers"
   ]
  },
  {
   "cell_type": "code",
   "execution_count": 9,
   "id": "bf1f2e37-be5f-4680-8f46-1e84a0f1a8f1",
   "metadata": {},
   "outputs": [
    {
     "name": "stdout",
     "output_type": "stream",
     "text": [
      "Model loaded successfully!\n"
     ]
    }
   ],
   "source": [
    "from sentence_transformers import SentenceTransformer\n",
    "\n",
    "model = SentenceTransformer(\"all-MiniLM-L6-v2\")\n",
    "print(\"Model loaded successfully!\")"
   ]
  },
  {
   "cell_type": "code",
   "execution_count": 10,
   "id": "2c6480b3-52fd-4aac-a5f4-b938da929332",
   "metadata": {},
   "outputs": [
    {
     "data": {
      "application/vnd.jupyter.widget-view+json": {
       "model_id": "f0b4f7c909f84fe39244ff37b9c7d2e6",
       "version_major": 2,
       "version_minor": 0
      },
      "text/plain": [
       "Batches:   0%|          | 0/1 [00:00<?, ?it/s]"
      ]
     },
     "metadata": {},
     "output_type": "display_data"
    }
   ],
   "source": [
    "embeddings = model.encode(df1[\"Question\"].tolist(), show_progress_bar=True)"
   ]
  },
  {
   "cell_type": "code",
   "execution_count": 11,
   "id": "69b3404f-9b48-4613-96cf-e1ef2ce6aeee",
   "metadata": {},
   "outputs": [],
   "source": [
    "kmeans = KMeans(n_clusters=4, random_state=42, n_init=10)"
   ]
  },
  {
   "cell_type": "code",
   "execution_count": 12,
   "id": "b8c05ab5-f05f-41e3-8cce-522ffba21a0d",
   "metadata": {},
   "outputs": [],
   "source": [
    "df1[\"Cluster\"] = kmeans.fit_predict(embeddings)"
   ]
  },
  {
   "cell_type": "code",
   "execution_count": 13,
   "id": "9b2f98af-0589-4a39-b203-695f03f1c708",
   "metadata": {},
   "outputs": [
    {
     "name": "stdout",
     "output_type": "stream",
     "text": [
      "       Subject                                           Question  Cluster\n",
      "0      Biology  Which of the following structures is responsib...        1\n",
      "1      Biology              The causative organism of malaria is?        1\n",
      "2    Chemistry             Which of the following is a noble gas?        1\n",
      "3    Chemistry         The chemical formula of sulphuric acid is?        1\n",
      "4  Mathematics                     Simplify: 2(3x + 4) - (x - 2).        0\n",
      "5  Mathematics                     The mean of 2, 4, 6, 8, 10 is?        3\n",
      "6      English  Choose the word that best completes the senten...        2\n",
      "7      English    Which of the following is a synonym of 'Happy'?        2\n"
     ]
    }
   ],
   "source": [
    "print(df1[[\"Subject\", \"Question\", \"Cluster\"]])"
   ]
  },
  {
   "cell_type": "code",
   "execution_count": 14,
   "id": "593ab8ce-7bf2-4e4e-bf58-44a11bf227f9",
   "metadata": {},
   "outputs": [
    {
     "data": {
      "text/plain": [
       "0    1\n",
       "1    1\n",
       "2    1\n",
       "3    1\n",
       "4    0\n",
       "5    3\n",
       "6    2\n",
       "7    2\n",
       "Name: Cluster, dtype: int32"
      ]
     },
     "execution_count": 14,
     "metadata": {},
     "output_type": "execute_result"
    }
   ],
   "source": [
    "df1[\"Cluster\"]"
   ]
  },
  {
   "cell_type": "code",
   "execution_count": 15,
   "id": "efc4d161-8127-4843-861b-5cf54f8eb1e1",
   "metadata": {},
   "outputs": [
    {
     "name": "stdout",
     "output_type": "stream",
     "text": [
      "\n",
      "Clustered questions saved to waec_objectives_clustered.csv\n"
     ]
    }
   ],
   "source": [
    "\n",
    "df1.to_csv(\"waec.csv\", index=False)\n",
    "print(\"\\nClustered questions saved to waec_objectives_clustered.csv\")"
   ]
  },
  {
   "cell_type": "code",
   "execution_count": 16,
   "id": "e5934076-c34b-4b70-a5db-e3c863e660a8",
   "metadata": {},
   "outputs": [
    {
     "data": {
      "text/html": [
       "<div>\n",
       "<style scoped>\n",
       "    .dataframe tbody tr th:only-of-type {\n",
       "        vertical-align: middle;\n",
       "    }\n",
       "\n",
       "    .dataframe tbody tr th {\n",
       "        vertical-align: top;\n",
       "    }\n",
       "\n",
       "    .dataframe thead th {\n",
       "        text-align: right;\n",
       "    }\n",
       "</style>\n",
       "<table border=\"1\" class=\"dataframe\">\n",
       "  <thead>\n",
       "    <tr style=\"text-align: right;\">\n",
       "      <th></th>\n",
       "      <th>Subject</th>\n",
       "      <th>Year</th>\n",
       "      <th>Question_Number</th>\n",
       "      <th>Question</th>\n",
       "      <th>Options</th>\n",
       "      <th>Answer</th>\n",
       "      <th>Cluster</th>\n",
       "    </tr>\n",
       "  </thead>\n",
       "  <tbody>\n",
       "    <tr>\n",
       "      <th>0</th>\n",
       "      <td>Biology</td>\n",
       "      <td>2022</td>\n",
       "      <td>1</td>\n",
       "      <td>Which of the following structures is responsib...</td>\n",
       "      <td>A. Trachea | B. Lungs | C. Gills | D. Spiracles</td>\n",
       "      <td>C</td>\n",
       "      <td>1</td>\n",
       "    </tr>\n",
       "    <tr>\n",
       "      <th>1</th>\n",
       "      <td>Biology</td>\n",
       "      <td>2022</td>\n",
       "      <td>2</td>\n",
       "      <td>The causative organism of malaria is?</td>\n",
       "      <td>A. Plasmodium | B. Trypanosoma | C. Taenia | D...</td>\n",
       "      <td>A</td>\n",
       "      <td>1</td>\n",
       "    </tr>\n",
       "    <tr>\n",
       "      <th>2</th>\n",
       "      <td>Chemistry</td>\n",
       "      <td>2022</td>\n",
       "      <td>1</td>\n",
       "      <td>Which of the following is a noble gas?</td>\n",
       "      <td>A. Oxygen | B. Neon | C. Nitrogen | D. Chlorine</td>\n",
       "      <td>B</td>\n",
       "      <td>1</td>\n",
       "    </tr>\n",
       "    <tr>\n",
       "      <th>3</th>\n",
       "      <td>Chemistry</td>\n",
       "      <td>2022</td>\n",
       "      <td>2</td>\n",
       "      <td>The chemical formula of sulphuric acid is?</td>\n",
       "      <td>A. H2SO3 | B. H2SO4 | C. H2S | D. H2O</td>\n",
       "      <td>B</td>\n",
       "      <td>1</td>\n",
       "    </tr>\n",
       "    <tr>\n",
       "      <th>4</th>\n",
       "      <td>Mathematics</td>\n",
       "      <td>2022</td>\n",
       "      <td>1</td>\n",
       "      <td>Simplify: 2(3x + 4) - (x - 2).</td>\n",
       "      <td>A. 5x + 6 | B. 5x + 10 | C. 7x + 2 | D. 7x + 10</td>\n",
       "      <td>B</td>\n",
       "      <td>0</td>\n",
       "    </tr>\n",
       "    <tr>\n",
       "      <th>5</th>\n",
       "      <td>Mathematics</td>\n",
       "      <td>2022</td>\n",
       "      <td>2</td>\n",
       "      <td>The mean of 2, 4, 6, 8, 10 is?</td>\n",
       "      <td>A. 4 | B. 5 | C. 6 | D. 7</td>\n",
       "      <td>C</td>\n",
       "      <td>3</td>\n",
       "    </tr>\n",
       "    <tr>\n",
       "      <th>6</th>\n",
       "      <td>English</td>\n",
       "      <td>2022</td>\n",
       "      <td>1</td>\n",
       "      <td>Choose the word that best completes the senten...</td>\n",
       "      <td>A. go | B. goes | C. went | D. going</td>\n",
       "      <td>C</td>\n",
       "      <td>2</td>\n",
       "    </tr>\n",
       "    <tr>\n",
       "      <th>7</th>\n",
       "      <td>English</td>\n",
       "      <td>2022</td>\n",
       "      <td>2</td>\n",
       "      <td>Which of the following is a synonym of 'Happy'?</td>\n",
       "      <td>A. Sad | B. Joyful | C. Angry | D. Lonely</td>\n",
       "      <td>B</td>\n",
       "      <td>2</td>\n",
       "    </tr>\n",
       "  </tbody>\n",
       "</table>\n",
       "</div>"
      ],
      "text/plain": [
       "       Subject  Year  Question_Number  \\\n",
       "0      Biology  2022                1   \n",
       "1      Biology  2022                2   \n",
       "2    Chemistry  2022                1   \n",
       "3    Chemistry  2022                2   \n",
       "4  Mathematics  2022                1   \n",
       "5  Mathematics  2022                2   \n",
       "6      English  2022                1   \n",
       "7      English  2022                2   \n",
       "\n",
       "                                            Question  \\\n",
       "0  Which of the following structures is responsib...   \n",
       "1              The causative organism of malaria is?   \n",
       "2             Which of the following is a noble gas?   \n",
       "3         The chemical formula of sulphuric acid is?   \n",
       "4                     Simplify: 2(3x + 4) - (x - 2).   \n",
       "5                     The mean of 2, 4, 6, 8, 10 is?   \n",
       "6  Choose the word that best completes the senten...   \n",
       "7    Which of the following is a synonym of 'Happy'?   \n",
       "\n",
       "                                             Options Answer  Cluster  \n",
       "0    A. Trachea | B. Lungs | C. Gills | D. Spiracles      C        1  \n",
       "1  A. Plasmodium | B. Trypanosoma | C. Taenia | D...      A        1  \n",
       "2    A. Oxygen | B. Neon | C. Nitrogen | D. Chlorine      B        1  \n",
       "3              A. H2SO3 | B. H2SO4 | C. H2S | D. H2O      B        1  \n",
       "4    A. 5x + 6 | B. 5x + 10 | C. 7x + 2 | D. 7x + 10      B        0  \n",
       "5                          A. 4 | B. 5 | C. 6 | D. 7      C        3  \n",
       "6               A. go | B. goes | C. went | D. going      C        2  \n",
       "7          A. Sad | B. Joyful | C. Angry | D. Lonely      B        2  "
      ]
     },
     "execution_count": 16,
     "metadata": {},
     "output_type": "execute_result"
    }
   ],
   "source": [
    "df=pd.read_csv('waec.csv')\n",
    "df"
   ]
  },
  {
   "cell_type": "code",
   "execution_count": 17,
   "id": "f611eef0-2747-4d62-a5c9-772e52a65018",
   "metadata": {},
   "outputs": [
    {
     "data": {
      "text/plain": [
       "Index(['Subject', 'Year', 'Question_Number', 'Question', 'Options', 'Answer',\n",
       "       'Cluster'],\n",
       "      dtype='object')"
      ]
     },
     "execution_count": 17,
     "metadata": {},
     "output_type": "execute_result"
    }
   ],
   "source": [
    "df.columns"
   ]
  },
  {
   "cell_type": "code",
   "execution_count": 18,
   "id": "6b64d3c7-f6f6-4b1b-9638-d2024d1166fa",
   "metadata": {},
   "outputs": [],
   "source": [
    "from sklearn.decomposition import PCA"
   ]
  },
  {
   "cell_type": "code",
   "execution_count": 19,
   "id": "b5abbdb6-e8ec-4214-990e-977b7dbd839e",
   "metadata": {},
   "outputs": [
    {
     "data": {
      "image/png": "[encoded data removed]",
      "text/plain": [
       "<Figure size 800x600 with 2 Axes>"
      ]
     },
     "metadata": {},
     "output_type": "display_data"
    }
   ],
   "source": [
    "pca = PCA(n_components=2)\n",
    "reduced_embeddings = pca.fit_transform(embeddings)\n",
    "\n",
    "# === Plot the clusters ===\n",
    "plt.figure(figsize=(8, 6))\n",
    "scatter = plt.scatter(\n",
    "    reduced_embeddings[:, 0], \n",
    "    reduced_embeddings[:, 1], \n",
    "    c=df1[\"Cluster\"], cmap=\"tab10\", s=100, alpha=0.7, edgecolors=\"k\"\n",
    ")\n",
    "\n",
    "# Label points with subject for clarity\n",
    "for i, txt in enumerate(df[\"Subject\"]):\n",
    "    plt.annotate(txt, (reduced_embeddings[i, 0] + 0.02, reduced_embeddings[i, 1] + 0.02))\n",
    "\n",
    "plt.title(\"Clustering of WAEC Objective Questions (BERT + KMeans)\")\n",
    "plt.xlabel(\"PCA Dimension 1\")\n",
    "plt.ylabel(\"PCA Dimension 2\")\n",
    "plt.colorbar(scatter, label=df1['Cluster'])\n",
    "plt.show()"
   ]
  },
  {
   "cell_type": "code",
   "execution_count": 20,
   "id": "e7f52571-c0bf-46a2-acce-6fbdc713da6c",
   "metadata": {},
   "outputs": [
    {
     "data": {
      "text/plain": [
       "<matplotlib.collections.PathCollection at 0x2666d71b890>"
      ]
     },
     "execution_count": 20,
     "metadata": {},
     "output_type": "execute_result"
    },
    {
     "data": {
      "image/png": "[encoded data removed]",
      "text/plain": [
       "<Figure size 640x480 with 1 Axes>"
      ]
     },
     "metadata": {},
     "output_type": "display_data"
    }
   ],
   "source": [
    "plt.scatter(\n",
    "    reduced_embeddings[:, 0], \n",
    "    reduced_embeddings[:, 1], \n",
    "    c=df[\"Cluster\"], cmap=\"tab10\", s=100, alpha=0.7, edgecolors=\"k\"\n",
    ")"
   ]
  },
  {
   "cell_type": "code",
   "execution_count": 21,
   "id": "b8b53db2-4cdd-4c16-8593-77fce61b257b",
   "metadata": {},
   "outputs": [
    {
     "data": {
      "text/html": [
       "<div>\n",
       "<style scoped>\n",
       "    .dataframe tbody tr th:only-of-type {\n",
       "        vertical-align: middle;\n",
       "    }\n",
       "\n",
       "    .dataframe tbody tr th {\n",
       "        vertical-align: top;\n",
       "    }\n",
       "\n",
       "    .dataframe thead th {\n",
       "        text-align: right;\n",
       "    }\n",
       "</style>\n",
       "<table border=\"1\" class=\"dataframe\">\n",
       "  <thead>\n",
       "    <tr style=\"text-align: right;\">\n",
       "      <th></th>\n",
       "      <th>Subject</th>\n",
       "      <th>Year</th>\n",
       "      <th>Question_Number</th>\n",
       "      <th>Question</th>\n",
       "      <th>Options</th>\n",
       "      <th>Answer</th>\n",
       "    </tr>\n",
       "  </thead>\n",
       "  <tbody>\n",
       "    <tr>\n",
       "      <th>0</th>\n",
       "      <td>Biology</td>\n",
       "      <td>2018</td>\n",
       "      <td>1</td>\n",
       "      <td>In humans, the sex of a child is determined by...</td>\n",
       "      <td>A. X chromosome | B. Y chromosome | C. XX pair...</td>\n",
       "      <td>B</td>\n",
       "    </tr>\n",
       "    <tr>\n",
       "      <th>1</th>\n",
       "      <td>Biology</td>\n",
       "      <td>2018</td>\n",
       "      <td>2</td>\n",
       "      <td>Which process leads to variation during meiosis?</td>\n",
       "      <td>A. Cytokinesis | B. Crossing over | C. DNA rep...</td>\n",
       "      <td>B</td>\n",
       "    </tr>\n",
       "    <tr>\n",
       "      <th>2</th>\n",
       "      <td>Biology</td>\n",
       "      <td>2020</td>\n",
       "      <td>3</td>\n",
       "      <td>The genotype of an individual refers to the</td>\n",
       "      <td>A. outward appearance | B. genetic constitutio...</td>\n",
       "      <td>B</td>\n",
       "    </tr>\n",
       "    <tr>\n",
       "      <th>3</th>\n",
       "      <td>Biology</td>\n",
       "      <td>2019</td>\n",
       "      <td>4</td>\n",
       "      <td>Sickle-cell anaemia is controlled by a pair of</td>\n",
       "      <td>A. multiple alleles | B. co-dominant alleles |...</td>\n",
       "      <td>B</td>\n",
       "    </tr>\n",
       "    <tr>\n",
       "      <th>4</th>\n",
       "      <td>Biology</td>\n",
       "      <td>2019</td>\n",
       "      <td>5</td>\n",
       "      <td>A backcross between F1 and the recessive paren...</td>\n",
       "      <td>A. test cross | B. out cross | C. selfing | D....</td>\n",
       "      <td>A</td>\n",
       "    </tr>\n",
       "    <tr>\n",
       "      <th>...</th>\n",
       "      <td>...</td>\n",
       "      <td>...</td>\n",
       "      <td>...</td>\n",
       "      <td>...</td>\n",
       "      <td>...</td>\n",
       "      <td>...</td>\n",
       "    </tr>\n",
       "    <tr>\n",
       "      <th>195</th>\n",
       "      <td>English</td>\n",
       "      <td>2022</td>\n",
       "      <td>46</td>\n",
       "      <td>'Break the ice' means to</td>\n",
       "      <td>A. start a conversation | B. freeze water | C....</td>\n",
       "      <td>A</td>\n",
       "    </tr>\n",
       "    <tr>\n",
       "      <th>196</th>\n",
       "      <td>English</td>\n",
       "      <td>2018</td>\n",
       "      <td>47</td>\n",
       "      <td>'Cut corners' means to</td>\n",
       "      <td>A. be neat | B. be dishonest to save effort | ...</td>\n",
       "      <td>B</td>\n",
       "    </tr>\n",
       "    <tr>\n",
       "      <th>197</th>\n",
       "      <td>English</td>\n",
       "      <td>2018</td>\n",
       "      <td>48</td>\n",
       "      <td>'A blessing in disguise' means</td>\n",
       "      <td>A. good thing that seemed bad | B. a bad omen ...</td>\n",
       "      <td>A</td>\n",
       "    </tr>\n",
       "    <tr>\n",
       "      <th>198</th>\n",
       "      <td>English</td>\n",
       "      <td>2022</td>\n",
       "      <td>49</td>\n",
       "      <td>'Piece of cake' means</td>\n",
       "      <td>A. dessert | B. something very easy | C. a sma...</td>\n",
       "      <td>B</td>\n",
       "    </tr>\n",
       "    <tr>\n",
       "      <th>199</th>\n",
       "      <td>English</td>\n",
       "      <td>2019</td>\n",
       "      <td>50</td>\n",
       "      <td>'On cloud nine' means</td>\n",
       "      <td>A. very sad | B. very happy | C. very tired | ...</td>\n",
       "      <td>B</td>\n",
       "    </tr>\n",
       "  </tbody>\n",
       "</table>\n",
       "<p>200 rows × 6 columns</p>\n",
       "</div>"
      ],
      "text/plain": [
       "     Subject  Year  Question_Number  \\\n",
       "0    Biology  2018                1   \n",
       "1    Biology  2018                2   \n",
       "2    Biology  2020                3   \n",
       "3    Biology  2019                4   \n",
       "4    Biology  2019                5   \n",
       "..       ...   ...              ...   \n",
       "195  English  2022               46   \n",
       "196  English  2018               47   \n",
       "197  English  2018               48   \n",
       "198  English  2022               49   \n",
       "199  English  2019               50   \n",
       "\n",
       "                                              Question  \\\n",
       "0    In humans, the sex of a child is determined by...   \n",
       "1     Which process leads to variation during meiosis?   \n",
       "2          The genotype of an individual refers to the   \n",
       "3       Sickle-cell anaemia is controlled by a pair of   \n",
       "4    A backcross between F1 and the recessive paren...   \n",
       "..                                                 ...   \n",
       "195                           'Break the ice' means to   \n",
       "196                             'Cut corners' means to   \n",
       "197                     'A blessing in disguise' means   \n",
       "198                              'Piece of cake' means   \n",
       "199                              'On cloud nine' means   \n",
       "\n",
       "                                               Options Answer  \n",
       "0    A. X chromosome | B. Y chromosome | C. XX pair...      B  \n",
       "1    A. Cytokinesis | B. Crossing over | C. DNA rep...      B  \n",
       "2    A. outward appearance | B. genetic constitutio...      B  \n",
       "3    A. multiple alleles | B. co-dominant alleles |...      B  \n",
       "4    A. test cross | B. out cross | C. selfing | D....      A  \n",
       "..                                                 ...    ...  \n",
       "195  A. start a conversation | B. freeze water | C....      A  \n",
       "196  A. be neat | B. be dishonest to save effort | ...      B  \n",
       "197  A. good thing that seemed bad | B. a bad omen ...      A  \n",
       "198  A. dessert | B. something very easy | C. a sma...      B  \n",
       "199  A. very sad | B. very happy | C. very tired | ...      B  \n",
       "\n",
       "[200 rows x 6 columns]"
      ]
     },
     "execution_count": 21,
     "metadata": {},
     "output_type": "execute_result"
    }
   ],
   "source": [
    "df3=pd.read_csv(r\"C:\\Users\\hp\\Desktop\\Data_science\\AI FOLDER\\waec_objectives_200_balanced (1).csv\")\n",
    "df3"
   ]
  },
  {
   "cell_type": "code",
   "execution_count": 22,
   "id": "2e7a0bb5-0465-4e5b-b7b1-e01169085764",
   "metadata": {},
   "outputs": [
    {
     "name": "stdout",
     "output_type": "stream",
     "text": [
      "Model loaded successfully!\n"
     ]
    }
   ],
   "source": [
    "\n",
    "model= SentenceTransformer(\"all-MiniLM-L6-v2\")\n",
    "print(\"Model loaded successfully!\")"
   ]
  },
  {
   "cell_type": "code",
   "execution_count": 23,
   "id": "3a0f3385-eac9-4b56-9660-0044b0c8eb63",
   "metadata": {},
   "outputs": [
    {
     "data": {
      "application/vnd.jupyter.widget-view+json": {
       "model_id": "f9867133d9a443ef9455c7d4b6c21bef",
       "version_major": 2,
       "version_minor": 0
      },
      "text/plain": [
       "Batches:   0%|          | 0/7 [00:00<?, ?it/s]"
      ]
     },
     "metadata": {},
     "output_type": "display_data"
    }
   ],
   "source": [
    "embedding_words= model.encode(df3[\"Question\"].tolist(), show_progress_bar=True)"
   ]
  },
  {
   "cell_type": "code",
   "execution_count": 24,
   "id": "7f15a038-379b-4134-8185-1aa5e0359b7c",
   "metadata": {},
   "outputs": [],
   "source": [
    "kmeans = KMeans(n_clusters=5, random_state=42, n_init=10)"
   ]
  },
  {
   "cell_type": "code",
   "execution_count": 25,
   "id": "569d1431-c95c-489f-9c94-2809759b2005",
   "metadata": {},
   "outputs": [],
   "source": [
    "df3[\"Cluster\"] = kmeans.fit_predict(embedding_words)"
   ]
  },
  {
   "cell_type": "code",
   "execution_count": 26,
   "id": "cfd44253-12c6-4e33-bfb4-ecda8af64e01",
   "metadata": {},
   "outputs": [
    {
     "name": "stdout",
     "output_type": "stream",
     "text": [
      "     Subject                                           Question  Cluster\n",
      "0    Biology  In humans, the sex of a child is determined by...        0\n",
      "1    Biology   Which process leads to variation during meiosis?        0\n",
      "2    Biology        The genotype of an individual refers to the        0\n",
      "3    Biology     Sickle-cell anaemia is controlled by a pair of        0\n",
      "4    Biology  A backcross between F1 and the recessive paren...        0\n",
      "..       ...                                                ...      ...\n",
      "195  English                           'Break the ice' means to        3\n",
      "196  English                             'Cut corners' means to        3\n",
      "197  English                     'A blessing in disguise' means        3\n",
      "198  English                              'Piece of cake' means        3\n",
      "199  English                              'On cloud nine' means        3\n",
      "\n",
      "[200 rows x 3 columns]\n"
     ]
    }
   ],
   "source": [
    "print(df3[[\"Subject\", \"Question\", \"Cluster\"]])"
   ]
  },
  {
   "cell_type": "code",
   "execution_count": 27,
   "id": "1cd15f84-5b6d-4444-aa25-7d1268d23b85",
   "metadata": {},
   "outputs": [
    {
     "data": {
      "text/plain": [
       "Subject\n",
       "Biology        2\n",
       "Chemistry      2\n",
       "Mathematics    2\n",
       "English        2\n",
       "Name: count, dtype: int64"
      ]
     },
     "execution_count": 27,
     "metadata": {},
     "output_type": "execute_result"
    }
   ],
   "source": [
    "df.Subject.value_counts()"
   ]
  },
  {
   "cell_type": "code",
   "execution_count": 28,
   "id": "9f74b7d4-4016-4d99-adaa-edb47921d9c1",
   "metadata": {},
   "outputs": [],
   "source": [
    "from sklearn.metrics import silhouette_score\n",
    "\n",
    "import numpy as np"
   ]
  },
  {
   "cell_type": "code",
   "execution_count": 29,
   "id": "41bd2bfc-ed30-44a1-a020-f4dc43e85b03",
   "metadata": {},
   "outputs": [],
   "source": [
    "import pandas as pd\n",
    "import numpy as np\n",
    "import matplotlib.pyplot as plt\n",
    "import re\n",
    "from collections import Counter\n",
    "from sklearn.cluster import KMeans\n",
    "from sklearn.metrics import silhouette_score\n",
    "from sklearn.decomposition import PCA\n",
    "from sentence_transformers import SentenceTransformer\n",
    "\n",
    "# === Helper: keyword extractor ===\n",
    "def extract_keywords(text, stopwords=set()):\n",
    "    words = re.findall(r\"\\b\\w+\\b\", text.lower())\n",
    "    return [w for w in words if w not in stopwords and len(w) > 3]\n",
    "\n",
    "stopwords = {\n",
    "    \"the\",\"and\",\"which\",\"that\",\"with\",\"from\",\"this\",\"into\",\"does\",\"have\",\"been\",\n",
    "    \"what\",\"when\",\"where\",\"your\",\"their\",\"for\",\"are\",\"was\",\"will\",\"shall\",\"each\"\n",
    "}\n",
    "\n",
    "# === Pipeline Function ===\n",
    "def cluster_questions_pipeline(csv_path, out_csv=\"questions_with_clusters.csv\"):\n",
    "    # Step 1: Load data\n",
    "    df = pd.read_csv(r\"C:\\Users\\hp\\Desktop\\Data_science\\AI FOLDER\\waec_objectives_200_balanced (1).csv\")\n",
    "    print(f\" Loaded {len(df)} questions\")\n",
    "\n",
    "    # Step 2: Generate embeddings\n",
    "    model = SentenceTransformer(\"all-MiniLM-L6-v2\")\n",
    "    embeddings = model.encode(df[\"Question\"].tolist(), show_progress_bar=True)\n",
    "\n",
    "    df[\"Cluster\"] = -1  # placeholder\n",
    "\n",
    "    # Step 3: Cluster per subject\n",
    "    for subject in df[\"Subject\"].unique():\n",
    "        mask = df[\"Subject\"] == subject\n",
    "        X = embeddings[mask.values]\n",
    "\n",
    "        print(f\"\\n Subject: {subject} | Questions: {mask.sum()}\")\n",
    "        if len(X) < 3:\n",
    "            print(\" Not enough questions for clustering\")\n",
    "            df.loc[mask, \"Cluster\"] = 0\n",
    "            continue\n",
    "\n",
    "        # Pick best k with silhouette\n",
    "        best_k, best_score = None, -1\n",
    "        for k in range(2, min(6, len(X))):  # limit k to avoid errors\n",
    "            kmeans = KMeans(n_clusters=k, random_state=42, n_init=10)\n",
    "            labels = kmeans.fit_predict(X)\n",
    "            score = silhouette_score(X, labels)\n",
    "            print(f\"   k={k} → silhouette={score:.3f}\")\n",
    "            if score > best_score:\n",
    "                best_k, best_score = k, score\n",
    "\n",
    "        print(f\"Best k for {subject}: {best_k} (score={best_score:.3f})\")\n",
    "\n",
    "        # Final clustering\n",
    "        kmeans = KMeans(n_clusters=best_k, random_state=42, n_init=10)\n",
    "        labels = kmeans.fit_predict(X)\n",
    "        df.loc[mask, \"Cluster\"] = labels\n",
    "\n",
    "        # Step 4: PCA Visualization\n",
    "        reduced = PCA(n_components=2).fit_transform(X)\n",
    "        plt.figure(figsize=(8,6))\n",
    "        plt.scatter(reduced[:,0], reduced[:,1], c=labels, cmap=\"tab10\", s=50, alpha=0.7, edgecolors=\"k\")\n",
    "        plt.title(f\"{subject} Clusters (k={best_k}, silhouette={best_score:.3f})\")\n",
    "        plt.xlabel(\"PCA Dimension 1\")\n",
    "        plt.ylabel(\"PCA Dimension 2\")\n",
    "        plt.show()\n",
    "\n",
    "        # Step 5: Cluster Evaluation\n",
    "        print(f\"\\n📊 Cluster sizes for {subject}:\")\n",
    "        print(df[df[\"Subject\"] == subject][\"Cluster\"].value_counts())\n",
    "\n",
    "        print(f\"\\n Top keywords per cluster in {subject}:\")\n",
    "        for cluster in sorted(df[df[\"Subject\"] == subject][\"Cluster\"].unique()):\n",
    "            cluster_texts = df[(df[\"Subject\"] == subject) & (df[\"Cluster\"] == cluster)][\"Question\"]\n",
    "            all_words = []\n",
    "            for q in cluster_texts:\n",
    "                all_words.extend(extract_keywords(q, stopwords))\n",
    "            common = Counter(all_words).most_common(5)\n",
    "            print(f\"   Cluster {cluster}: {common}\")\n",
    "\n",
    "    # Step 6: Save results\n",
    "    df.to_csv(out_csv, index=False)\n",
    "    np.save(\"embeddings.npy\", embeddings)\n",
    "\n",
    "    print(f\"\\n Pipeline complete! Saved results to {out_csv}\")\n",
    "    return df, embeddings\n"
   ]
  },
  {
   "cell_type": "code",
   "execution_count": 30,
   "id": "f303bd69-a4e1-4156-9215-05fdda345dcd",
   "metadata": {},
   "outputs": [
    {
     "data": {
      "text/html": [
       "<div>\n",
       "<style scoped>\n",
       "    .dataframe tbody tr th:only-of-type {\n",
       "        vertical-align: middle;\n",
       "    }\n",
       "\n",
       "    .dataframe tbody tr th {\n",
       "        vertical-align: top;\n",
       "    }\n",
       "\n",
       "    .dataframe thead th {\n",
       "        text-align: right;\n",
       "    }\n",
       "</style>\n",
       "<table border=\"1\" class=\"dataframe\">\n",
       "  <thead>\n",
       "    <tr style=\"text-align: right;\">\n",
       "      <th></th>\n",
       "      <th>Subject</th>\n",
       "      <th>Year</th>\n",
       "      <th>Question_Number</th>\n",
       "      <th>Question</th>\n",
       "      <th>Options</th>\n",
       "      <th>Answer</th>\n",
       "      <th>Cluster</th>\n",
       "    </tr>\n",
       "  </thead>\n",
       "  <tbody>\n",
       "    <tr>\n",
       "      <th>0</th>\n",
       "      <td>Biology</td>\n",
       "      <td>2022</td>\n",
       "      <td>1</td>\n",
       "      <td>Which of the following structures is responsib...</td>\n",
       "      <td>A. Trachea | B. Lungs | C. Gills | D. Spiracles</td>\n",
       "      <td>C</td>\n",
       "      <td>1</td>\n",
       "    </tr>\n",
       "    <tr>\n",
       "      <th>1</th>\n",
       "      <td>Biology</td>\n",
       "      <td>2022</td>\n",
       "      <td>2</td>\n",
       "      <td>The causative organism of malaria is?</td>\n",
       "      <td>A. Plasmodium | B. Trypanosoma | C. Taenia | D...</td>\n",
       "      <td>A</td>\n",
       "      <td>1</td>\n",
       "    </tr>\n",
       "    <tr>\n",
       "      <th>2</th>\n",
       "      <td>Chemistry</td>\n",
       "      <td>2022</td>\n",
       "      <td>1</td>\n",
       "      <td>Which of the following is a noble gas?</td>\n",
       "      <td>A. Oxygen | B. Neon | C. Nitrogen | D. Chlorine</td>\n",
       "      <td>B</td>\n",
       "      <td>1</td>\n",
       "    </tr>\n",
       "    <tr>\n",
       "      <th>3</th>\n",
       "      <td>Chemistry</td>\n",
       "      <td>2022</td>\n",
       "      <td>2</td>\n",
       "      <td>The chemical formula of sulphuric acid is?</td>\n",
       "      <td>A. H2SO3 | B. H2SO4 | C. H2S | D. H2O</td>\n",
       "      <td>B</td>\n",
       "      <td>1</td>\n",
       "    </tr>\n",
       "    <tr>\n",
       "      <th>4</th>\n",
       "      <td>Mathematics</td>\n",
       "      <td>2022</td>\n",
       "      <td>1</td>\n",
       "      <td>Simplify: 2(3x + 4) - (x - 2).</td>\n",
       "      <td>A. 5x + 6 | B. 5x + 10 | C. 7x + 2 | D. 7x + 10</td>\n",
       "      <td>B</td>\n",
       "      <td>0</td>\n",
       "    </tr>\n",
       "    <tr>\n",
       "      <th>5</th>\n",
       "      <td>Mathematics</td>\n",
       "      <td>2022</td>\n",
       "      <td>2</td>\n",
       "      <td>The mean of 2, 4, 6, 8, 10 is?</td>\n",
       "      <td>A. 4 | B. 5 | C. 6 | D. 7</td>\n",
       "      <td>C</td>\n",
       "      <td>3</td>\n",
       "    </tr>\n",
       "    <tr>\n",
       "      <th>6</th>\n",
       "      <td>English</td>\n",
       "      <td>2022</td>\n",
       "      <td>1</td>\n",
       "      <td>Choose the word that best completes the senten...</td>\n",
       "      <td>A. go | B. goes | C. went | D. going</td>\n",
       "      <td>C</td>\n",
       "      <td>2</td>\n",
       "    </tr>\n",
       "    <tr>\n",
       "      <th>7</th>\n",
       "      <td>English</td>\n",
       "      <td>2022</td>\n",
       "      <td>2</td>\n",
       "      <td>Which of the following is a synonym of 'Happy'?</td>\n",
       "      <td>A. Sad | B. Joyful | C. Angry | D. Lonely</td>\n",
       "      <td>B</td>\n",
       "      <td>2</td>\n",
       "    </tr>\n",
       "  </tbody>\n",
       "</table>\n",
       "</div>"
      ],
      "text/plain": [
       "       Subject  Year  Question_Number  \\\n",
       "0      Biology  2022                1   \n",
       "1      Biology  2022                2   \n",
       "2    Chemistry  2022                1   \n",
       "3    Chemistry  2022                2   \n",
       "4  Mathematics  2022                1   \n",
       "5  Mathematics  2022                2   \n",
       "6      English  2022                1   \n",
       "7      English  2022                2   \n",
       "\n",
       "                                            Question  \\\n",
       "0  Which of the following structures is responsib...   \n",
       "1              The causative organism of malaria is?   \n",
       "2             Which of the following is a noble gas?   \n",
       "3         The chemical formula of sulphuric acid is?   \n",
       "4                     Simplify: 2(3x + 4) - (x - 2).   \n",
       "5                     The mean of 2, 4, 6, 8, 10 is?   \n",
       "6  Choose the word that best completes the senten...   \n",
       "7    Which of the following is a synonym of 'Happy'?   \n",
       "\n",
       "                                             Options Answer  Cluster  \n",
       "0    A. Trachea | B. Lungs | C. Gills | D. Spiracles      C        1  \n",
       "1  A. Plasmodium | B. Trypanosoma | C. Taenia | D...      A        1  \n",
       "2    A. Oxygen | B. Neon | C. Nitrogen | D. Chlorine      B        1  \n",
       "3              A. H2SO3 | B. H2SO4 | C. H2S | D. H2O      B        1  \n",
       "4    A. 5x + 6 | B. 5x + 10 | C. 7x + 2 | D. 7x + 10      B        0  \n",
       "5                          A. 4 | B. 5 | C. 6 | D. 7      C        3  \n",
       "6               A. go | B. goes | C. went | D. going      C        2  \n",
       "7          A. Sad | B. Joyful | C. Angry | D. Lonely      B        2  "
      ]
     },
     "execution_count": 30,
     "metadata": {},
     "output_type": "execute_result"
    }
   ],
   "source": [
    "df"
   ]
  },
  {
   "cell_type": "code",
   "execution_count": 31,
   "id": "89d89406-f506-4efc-a5a5-ab563c6b5167",
   "metadata": {},
   "outputs": [
    {
     "data": {
      "text/plain": [
       "Cluster\n",
       "1    4\n",
       "2    2\n",
       "0    1\n",
       "3    1\n",
       "Name: count, dtype: int64"
      ]
     },
     "execution_count": 31,
     "metadata": {},
     "output_type": "execute_result"
    }
   ],
   "source": [
    "df['Cluster'].value_counts()"
   ]
  },
  {
   "cell_type": "code",
   "execution_count": 32,
   "id": "3b4a5f0a-9145-4778-b3b8-6b35ffb86c25",
   "metadata": {},
   "outputs": [
    {
     "name": "stdout",
     "output_type": "stream",
     "text": [
      " Loaded 200 questions\n"
     ]
    },
    {
     "data": {
      "application/vnd.jupyter.widget-view+json": {
       "model_id": "a05102880d8a405aa83dbf6db879f0f0",
       "version_major": 2,
       "version_minor": 0
      },
      "text/plain": [
       "Batches:   0%|          | 0/7 [00:00<?, ?it/s]"
      ]
     },
     "metadata": {},
     "output_type": "display_data"
    },
    {
     "name": "stdout",
     "output_type": "stream",
     "text": [
      "\n",
      " Subject: Biology | Questions: 50\n",
      "   k=2 → silhouette=0.028\n",
      "   k=3 → silhouette=0.032\n",
      "   k=4 → silhouette=0.027\n",
      "   k=5 → silhouette=0.022\n",
      "Best k for Biology: 3 (score=0.032)\n"
     ]
    },
    {
     "data": {
      "image/png": "[encoded data removed]",
      "text/plain": [
       "<Figure size 800x600 with 1 Axes>"
      ]
     },
     "metadata": {},
     "output_type": "display_data"
    },
    {
     "name": "stdout",
     "output_type": "stream",
     "text": [
      "\n",
      "📊 Cluster sizes for Biology:\n",
      "Cluster\n",
      "1    32\n",
      "2    13\n",
      "0     5\n",
      "Name: count, dtype: int64\n",
      "\n",
      " Top keywords per cluster in Biology:\n",
      "   Cluster 0: [('biological', 1), ('magnification', 1), ('refers', 1), ('instrument', 1), ('used', 1)]\n",
      "   Cluster 1: [('following', 4), ('responsible', 3), ('blood', 3), ('water', 2), ('unit', 2)]\n",
      "   Cluster 2: [('variation', 2), ('refers', 2), ('cell', 2), ('called', 2), ('theory', 2)]\n",
      "\n",
      " Subject: Chemistry | Questions: 50\n",
      "   k=2 → silhouette=0.043\n",
      "   k=3 → silhouette=0.038\n",
      "   k=4 → silhouette=0.029\n",
      "   k=5 → silhouette=0.043\n",
      "Best k for Chemistry: 2 (score=0.043)\n"
     ]
    },
    {
     "data": {
      "image/png": "[encoded data removed]",
      "text/plain": [
       "<Figure size 800x600 with 1 Axes>"
      ]
     },
     "metadata": {},
     "output_type": "display_data"
    },
    {
     "name": "stdout",
     "output_type": "stream",
     "text": [
      "\n",
      "📊 Cluster sizes for Chemistry:\n",
      "Cluster\n",
      "1    36\n",
      "0    14\n",
      "Name: count, dtype: int64\n",
      "\n",
      " Top keywords per cluster in Chemistry:\n",
      "   Cluster 0: [('reaction', 6), ('rate', 3), ('aldehydes', 2), ('between', 2), ('functional', 1)]\n",
      "   Cluster 1: [('following', 6), ('water', 5), ('process', 4), ('used', 4), ('strong', 3)]\n",
      "\n",
      " Subject: Mathematics | Questions: 50\n",
      "   k=2 → silhouette=0.223\n",
      "   k=3 → silhouette=0.328\n",
      "   k=4 → silhouette=0.430\n",
      "   k=5 → silhouette=0.452\n",
      "Best k for Mathematics: 5 (score=0.452)\n"
     ]
    },
    {
     "data": {
      "image/png": "[encoded data removed]",
      "text/plain": [
       "<Figure size 800x600 with 1 Axes>"
      ]
     },
     "metadata": {},
     "output_type": "display_data"
    },
    {
     "name": "stdout",
     "output_type": "stream",
     "text": [
      "\n",
      "📊 Cluster sizes for Mathematics:\n",
      "Cluster\n",
      "1    10\n",
      "4    10\n",
      "2    10\n",
      "0    10\n",
      "3    10\n",
      "Name: count, dtype: int64\n",
      "\n",
      " Top keywords per cluster in Mathematics:\n",
      "   Cluster 0: [('contains', 10), ('balls', 10), ('probability', 10), ('picking', 10), ('ball', 10)]\n",
      "   Cluster 1: [('solve', 10)]\n",
      "   Cluster 2: [('find', 10)]\n",
      "   Cluster 3: [('evaluate', 10)]\n",
      "   Cluster 4: [('simplify', 10)]\n",
      "\n",
      " Subject: English | Questions: 50\n",
      "   k=2 → silhouette=0.042\n",
      "   k=3 → silhouette=0.047\n",
      "   k=4 → silhouette=0.054\n",
      "   k=5 → silhouette=0.056\n",
      "Best k for English: 5 (score=0.056)\n"
     ]
    },
    {
     "data": {
      "image/png": "[encoded data removed]",
      "text/plain": [
       "<Figure size 800x600 with 1 Axes>"
      ]
     },
     "metadata": {},
     "output_type": "display_data"
    },
    {
     "name": "stdout",
     "output_type": "stream",
     "text": [
      "\n",
      "📊 Cluster sizes for English:\n",
      "Cluster\n",
      "3    15\n",
      "4    10\n",
      "2    10\n",
      "1     9\n",
      "0     6\n",
      "Name: count, dtype: int64\n",
      "\n",
      " Top keywords per cluster in English:\n",
      "   Cluster 0: [('passage', 4), ('author', 2), ('education', 2), ('effects', 2), ('argues', 1)]\n",
      "   Cluster 1: [('correct', 3), ('choose', 2), ('fill', 2), ('paragraph', 2), ('next', 2)]\n",
      "   Cluster 2: [('means', 10), ('idiom', 2), ('choose', 1), ('correct', 1), ('kicked', 1)]\n",
      "   Cluster 3: [('choose', 6), ('meaning', 3), ('correct', 2), ('synonym', 2), ('word', 2)]\n",
      "   Cluster 4: [('sound', 3), ('select', 2), ('correct', 2), ('pronoun', 1), ('girls', 1)]\n",
      "\n",
      " Pipeline complete! Saved results to questions_with_clusters.csv\n"
     ]
    }
   ],
   "source": [
    "\n",
    "# Run the full pipeline\n",
    "df, embeddings = cluster_questions_pipeline(\"questions.csv\")\n"
   ]
  },
  {
   "cell_type": "code",
   "execution_count": 33,
   "id": "af230955-8c53-4fc5-b4d1-513f251219ae",
   "metadata": {},
   "outputs": [],
   "source": [
    "import joblib\n"
   ]
  },
  {
   "cell_type": "code",
   "execution_count": 34,
   "id": "a2650893-acfb-4792-b930-a67c2f751917",
   "metadata": {},
   "outputs": [],
   "source": [
    "model = joblib.load('model_3_n.pkl')"
   ]
  },
  {
   "cell_type": "code",
   "execution_count": 35,
   "id": "4c7d30ea-b025-478e-8204-f8854d6342c8",
   "metadata": {},
   "outputs": [
    {
     "data": {
      "text/plain": [
       "0      A. X chromosome | B. Y chromosome | C. XX pair...\n",
       "1      A. Cytokinesis | B. Crossing over | C. DNA rep...\n",
       "2      A. outward appearance | B. genetic constitutio...\n",
       "3      A. multiple alleles | B. co-dominant alleles |...\n",
       "4      A. test cross | B. out cross | C. selfing | D....\n",
       "                             ...                        \n",
       "195    A. start a conversation | B. freeze water | C....\n",
       "196    A. be neat | B. be dishonest to save effort | ...\n",
       "197    A. good thing that seemed bad | B. a bad omen ...\n",
       "198    A. dessert | B. something very easy | C. a sma...\n",
       "199    A. very sad | B. very happy | C. very tired | ...\n",
       "Name: Options, Length: 200, dtype: object"
      ]
     },
     "execution_count": 35,
     "metadata": {},
     "output_type": "execute_result"
    }
   ],
   "source": [
    "df.Options"
   ]
  },
  {
   "cell_type": "code",
   "execution_count": 36,
   "id": "4f471c2c-bf31-4ddc-8b05-a33f23c87ac2",
   "metadata": {},
   "outputs": [],
   "source": [
    "import random\n",
    "import pandas as pd\n",
    "import joblib\n",
    "\n",
    "# Load clustered question bank and model\n",
    "df = pd.read_csv(\"questions_with_clusters.csv\")\n",
    "model = joblib.load(\"model_3_n.pkl\")\n",
    "\n",
    "def run_adaptive_quiz(subject=\"Biology\", n=5, student_features=None):\n",
    "    # Pick random questions for this quiz\n",
    "    subset = df[df[\"Subject\"] == subject].sample(n, random_state=random.randint(0, 1000))\n",
    "\n",
    "    score = 0\n",
    "    for _, row in subset.iterrows():\n",
    "        print(f\"\\nQ: {row['Question']}\")\n",
    "\n",
    "        # Split the options string into A, B, C, D\n",
    "        opts = row['Options'].split(\" | \")\n",
    "        for opt in opts:\n",
    "            print(opt.strip())\n",
    "\n",
    "        ans = input(\"Your answer (A/B/C/D): \").strip().upper()\n",
    "        if ans == row[\"Answer\"].strip().upper():\n",
    "            print(\" Correct!\")\n",
    "            score += 1\n",
    "        else:\n",
    "            print(f\" Wrong! Correct answer is {row['Answer']}\")\n",
    "\n",
    "    print(f\"\\nFinal Score: {score}/{n}\")\n",
    "\n",
    "    # === Predict performance with supervised model ===\n",
    "    if student_features is not None:\n",
    "        pred = model.predict([student_features])[0]\n",
    "        print(f\"\\n Predicted Student Performance: {pred}\")\n",
    "\n",
    "        # Recommendation logic\n",
    "        if pred == \"Weak\":\n",
    "            print(\" Recommendation: Focus on foundational clusters (easy topics).\")\n",
    "        elif pred == \"Average\":\n",
    "            print(\" Recommendation: Mix of medium-level clusters.\")\n",
    "        else:\n",
    "            print(\" Recommendation: Attempt advanced/difficult clusters.\")\n"
   ]
  },
  {
   "cell_type": "code",
   "execution_count": 37,
   "id": "6185382f-f919-492b-b68c-a778c3d095ce",
   "metadata": {},
   "outputs": [
    {
     "data": {
      "text/html": [
       "<div>\n",
       "<style scoped>\n",
       "    .dataframe tbody tr th:only-of-type {\n",
       "        vertical-align: middle;\n",
       "    }\n",
       "\n",
       "    .dataframe tbody tr th {\n",
       "        vertical-align: top;\n",
       "    }\n",
       "\n",
       "    .dataframe thead th {\n",
       "        text-align: right;\n",
       "    }\n",
       "</style>\n",
       "<table border=\"1\" class=\"dataframe\">\n",
       "  <thead>\n",
       "    <tr style=\"text-align: right;\">\n",
       "      <th></th>\n",
       "      <th>Subject</th>\n",
       "      <th>Year</th>\n",
       "      <th>Question_Number</th>\n",
       "      <th>Question</th>\n",
       "      <th>Options</th>\n",
       "      <th>Answer</th>\n",
       "      <th>Cluster</th>\n",
       "    </tr>\n",
       "  </thead>\n",
       "  <tbody>\n",
       "    <tr>\n",
       "      <th>0</th>\n",
       "      <td>Biology</td>\n",
       "      <td>2018</td>\n",
       "      <td>1</td>\n",
       "      <td>In humans, the sex of a child is determined by...</td>\n",
       "      <td>A. X chromosome | B. Y chromosome | C. XX pair...</td>\n",
       "      <td>B</td>\n",
       "      <td>2</td>\n",
       "    </tr>\n",
       "    <tr>\n",
       "      <th>1</th>\n",
       "      <td>Biology</td>\n",
       "      <td>2018</td>\n",
       "      <td>2</td>\n",
       "      <td>Which process leads to variation during meiosis?</td>\n",
       "      <td>A. Cytokinesis | B. Crossing over | C. DNA rep...</td>\n",
       "      <td>B</td>\n",
       "      <td>2</td>\n",
       "    </tr>\n",
       "    <tr>\n",
       "      <th>2</th>\n",
       "      <td>Biology</td>\n",
       "      <td>2020</td>\n",
       "      <td>3</td>\n",
       "      <td>The genotype of an individual refers to the</td>\n",
       "      <td>A. outward appearance | B. genetic constitutio...</td>\n",
       "      <td>B</td>\n",
       "      <td>2</td>\n",
       "    </tr>\n",
       "    <tr>\n",
       "      <th>3</th>\n",
       "      <td>Biology</td>\n",
       "      <td>2019</td>\n",
       "      <td>4</td>\n",
       "      <td>Sickle-cell anaemia is controlled by a pair of</td>\n",
       "      <td>A. multiple alleles | B. co-dominant alleles |...</td>\n",
       "      <td>B</td>\n",
       "      <td>2</td>\n",
       "    </tr>\n",
       "    <tr>\n",
       "      <th>4</th>\n",
       "      <td>Biology</td>\n",
       "      <td>2019</td>\n",
       "      <td>5</td>\n",
       "      <td>A backcross between F1 and the recessive paren...</td>\n",
       "      <td>A. test cross | B. out cross | C. selfing | D....</td>\n",
       "      <td>A</td>\n",
       "      <td>2</td>\n",
       "    </tr>\n",
       "    <tr>\n",
       "      <th>...</th>\n",
       "      <td>...</td>\n",
       "      <td>...</td>\n",
       "      <td>...</td>\n",
       "      <td>...</td>\n",
       "      <td>...</td>\n",
       "      <td>...</td>\n",
       "      <td>...</td>\n",
       "    </tr>\n",
       "    <tr>\n",
       "      <th>195</th>\n",
       "      <td>English</td>\n",
       "      <td>2022</td>\n",
       "      <td>46</td>\n",
       "      <td>'Break the ice' means to</td>\n",
       "      <td>A. start a conversation | B. freeze water | C....</td>\n",
       "      <td>A</td>\n",
       "      <td>2</td>\n",
       "    </tr>\n",
       "    <tr>\n",
       "      <th>196</th>\n",
       "      <td>English</td>\n",
       "      <td>2018</td>\n",
       "      <td>47</td>\n",
       "      <td>'Cut corners' means to</td>\n",
       "      <td>A. be neat | B. be dishonest to save effort | ...</td>\n",
       "      <td>B</td>\n",
       "      <td>2</td>\n",
       "    </tr>\n",
       "    <tr>\n",
       "      <th>197</th>\n",
       "      <td>English</td>\n",
       "      <td>2018</td>\n",
       "      <td>48</td>\n",
       "      <td>'A blessing in disguise' means</td>\n",
       "      <td>A. good thing that seemed bad | B. a bad omen ...</td>\n",
       "      <td>A</td>\n",
       "      <td>2</td>\n",
       "    </tr>\n",
       "    <tr>\n",
       "      <th>198</th>\n",
       "      <td>English</td>\n",
       "      <td>2022</td>\n",
       "      <td>49</td>\n",
       "      <td>'Piece of cake' means</td>\n",
       "      <td>A. dessert | B. something very easy | C. a sma...</td>\n",
       "      <td>B</td>\n",
       "      <td>2</td>\n",
       "    </tr>\n",
       "    <tr>\n",
       "      <th>199</th>\n",
       "      <td>English</td>\n",
       "      <td>2019</td>\n",
       "      <td>50</td>\n",
       "      <td>'On cloud nine' means</td>\n",
       "      <td>A. very sad | B. very happy | C. very tired | ...</td>\n",
       "      <td>B</td>\n",
       "      <td>2</td>\n",
       "    </tr>\n",
       "  </tbody>\n",
       "</table>\n",
       "<p>200 rows × 7 columns</p>\n",
       "</div>"
      ],
      "text/plain": [
       "     Subject  Year  Question_Number  \\\n",
       "0    Biology  2018                1   \n",
       "1    Biology  2018                2   \n",
       "2    Biology  2020                3   \n",
       "3    Biology  2019                4   \n",
       "4    Biology  2019                5   \n",
       "..       ...   ...              ...   \n",
       "195  English  2022               46   \n",
       "196  English  2018               47   \n",
       "197  English  2018               48   \n",
       "198  English  2022               49   \n",
       "199  English  2019               50   \n",
       "\n",
       "                                              Question  \\\n",
       "0    In humans, the sex of a child is determined by...   \n",
       "1     Which process leads to variation during meiosis?   \n",
       "2          The genotype of an individual refers to the   \n",
       "3       Sickle-cell anaemia is controlled by a pair of   \n",
       "4    A backcross between F1 and the recessive paren...   \n",
       "..                                                 ...   \n",
       "195                           'Break the ice' means to   \n",
       "196                             'Cut corners' means to   \n",
       "197                     'A blessing in disguise' means   \n",
       "198                              'Piece of cake' means   \n",
       "199                              'On cloud nine' means   \n",
       "\n",
       "                                               Options Answer  Cluster  \n",
       "0    A. X chromosome | B. Y chromosome | C. XX pair...      B        2  \n",
       "1    A. Cytokinesis | B. Crossing over | C. DNA rep...      B        2  \n",
       "2    A. outward appearance | B. genetic constitutio...      B        2  \n",
       "3    A. multiple alleles | B. co-dominant alleles |...      B        2  \n",
       "4    A. test cross | B. out cross | C. selfing | D....      A        2  \n",
       "..                                                 ...    ...      ...  \n",
       "195  A. start a conversation | B. freeze water | C....      A        2  \n",
       "196  A. be neat | B. be dishonest to save effort | ...      B        2  \n",
       "197  A. good thing that seemed bad | B. a bad omen ...      A        2  \n",
       "198  A. dessert | B. something very easy | C. a sma...      B        2  \n",
       "199  A. very sad | B. very happy | C. very tired | ...      B        2  \n",
       "\n",
       "[200 rows x 7 columns]"
      ]
     },
     "execution_count": 37,
     "metadata": {},
     "output_type": "execute_result"
    }
   ],
   "source": [
    "df = pd.read_csv(\"questions_with_clusters.csv\")\n",
    "df"
   ]
  },
  {
   "cell_type": "markdown",
   "id": "c2da2151-d95f-4eb7-85fd-8076e03867b1",
   "metadata": {},
   "source": [
    "from collections import Counter\n",
    "import re\n",
    "\n",
    "def extract_keywords(text, stopwords=set()):\n",
    "    words = re.findall(r\"\\b\\w+\\b\", text.lower())\n",
    "    return [w for w in words if w not in stopwords and len(w) > 3]\n",
    "\n",
    "stopwords = {\"the\",\"and\",\"which\",\"that\",\"with\",\"from\",\"this\",\"into\",\"does\",\"have\",\"been\",\"what\",\"when\",\"where\",\"your\",\"their\"}\n",
    "\n",
    "for subject in df[\"Subject\"].unique():\n",
    "    print(f\"\\n {subject} Keywords per cluster:\")\n",
    "    for cluster in df[df[\"Subject\"] == subject][\"Cluster\"].unique():\n",
    "        cluster_texts = df[(df[\"Subject\"] == subject) & (df[\"Cluster\"] == cluster)][\"Question\"]\n",
    "        all_words = []\n",
    "        for q in cluster_texts:\n",
    "            all_words.extend(extract_keywords(q, stopwords))\n",
    "        common = Counter(all_words).most_common(5)\n",
    "        print(f\"    Cluster {cluster}: {common}\")\n"
   ]
  },
  {
   "cell_type": "code",
   "execution_count": 38,
   "id": "3dec20f2-6dbd-493b-a7cd-de15a08f084d",
   "metadata": {},
   "outputs": [],
   "source": [
    "\n",
    "df['difficulty'] = df['Cluster'].map({\n",
    "    0: 'Easy',\n",
    "    1: 'Easy',\n",
    "    2: 'Medium',\n",
    "    3: 'Medium',\n",
    "    4: 'Hard'\n",
    "})\n"
   ]
  },
  {
   "cell_type": "code",
   "execution_count": 60,
   "id": "81f95910-f97a-451b-942a-e92238bc97d5",
   "metadata": {},
   "outputs": [],
   "source": [
    "## import joblib\n",
    "\n",
    "# Load your trained model from file\n",
    "model = joblib.load(\"model4.pkl\")\n",
    "def run_adaptive_quiz(subject, model, df, n=3):\n",
    "    \"\"\"\n",
    "    Adaptive quiz that predicts likelihood to pass using student features\n",
    "    and adjusts it with quiz performance. Starting difficulty is based on G1/G2/G3.\n",
    "    \"\"\"\n",
    "    \n",
    "    def get_valid_input(prompt, min_val=None, max_val=None):\n",
    "        \"\"\"Helper to get valid integer input within optional range.\"\"\"\n",
    "        while True:\n",
    "            try:\n",
    "                val = int(input(prompt))\n",
    "                if (min_val is not None and val < min_val) or (max_val is not None and val > max_val):\n",
    "                    print(f\" Please enter a value between {min_val} and {max_val}.\")\n",
    "                    continue\n",
    "                return val\n",
    "            except ValueError:\n",
    "                print(\"Invalid input. Please enter a number.\")\n",
    "    \n",
    "    print(f\"\\n=== Enter your study features for {subject} ===\")\n",
    "    \n",
    "    # Collect student features\n",
    "    features = {\n",
    "        'G1': get_valid_input(\"First C.A test (0-20): \", 0, 20),\n",
    "        'G2': get_valid_input(\"Second C.A test (0-20): \", 0, 20),\n",
    "        'G3': get_valid_input(\"Third C.A test (0-20): \", 0, 20)\n",
    "    }\n",
    "    \n",
    "    student_features = [features[key] for key in features]\n",
    "    \n",
    "    # Step 1: Assign starting difficulty based on G1/G2/G3 averages\n",
    "    avg_score = (features['G1'] + features['G2'] + features['G3']) / 3\n",
    "    if avg_score <= 8:\n",
    "        difficulty = \"Easy\"\n",
    "    elif avg_score <= 14:\n",
    "        difficulty = \"Medium\"\n",
    "    else:\n",
    "        difficulty = \"Hard\"\n",
    "    \n",
    "    print(f\"\\n Starting difficulty based on past performance: {difficulty}\\n\")\n",
    "    \n",
    "    # Step 2: Filter questions by subject\n",
    "    subject_questions = df[df['Subject'] == subject]\n",
    "    if subject_questions.empty:\n",
    "        print(f\"  No questions available for subject {subject}.\")\n",
    "        return\n",
    "    \n",
    "    # Step 3: Adaptive quiz loop\n",
    "    difficulty_order = ['Easy', 'Medium', 'Hard']\n",
    "    current_index = difficulty_order.index(difficulty)\n",
    "    total_correct = 0\n",
    "    \n",
    "    for i in range(n):\n",
    "        pool = subject_questions[subject_questions['difficulty'] == difficulty_order[current_index]]\n",
    "        if pool.empty:\n",
    "            print(\" No questions available for this difficulty.\")\n",
    "            break\n",
    "        \n",
    "        question = pool.sample(1).iloc[0]  # pick random question\n",
    "        print(f\"Q{i+1}: {question['Question']}\")\n",
    "        print(f\"Options: {question['Options']}\")\n",
    "        \n",
    "        # Ask for student answer and validate\n",
    "        valid_options = ['A','B','C','D']\n",
    "        while True:\n",
    "            student_answer = input(\"Your answer (A/B/C/D): \").strip().upper()\n",
    "            if student_answer in valid_options:\n",
    "                break\n",
    "            print(\" Invalid option. Please enter A, B, C, or D.\")\n",
    "        \n",
    "        # Check correctness\n",
    "        correct = student_answer == question['Answer'].strip().upper()\n",
    "        if correct:\n",
    "            print(\" Correct!\\n\")\n",
    "            total_correct += 1\n",
    "            current_index = min(current_index + 1, 2)  # move harder\n",
    "        else:\n",
    "            print(f\" Wrong! Correct answer: {question['Answer']}\\n\")\n",
    "            current_index = max(current_index - 1, 0)  # move easier\n",
    "    \n",
    "    # Step 4: Compute quiz score\n",
    "    quiz_score = total_correct / n\n",
    "    print(f\" Quiz Completed! Score: {quiz_score*100:.1f}%\")\n",
    "    \n",
    "    # Step 5: Final likelihood to pass using Option 2\n",
    "    base_prob = model.predict_proba([student_features])[0,1]  # original 11-feature model\n",
    "    final_prob = 0.6 * base_prob + 0.4 * quiz_score\n",
    "    \n",
    "    if final_prob >= 0.7:\n",
    "        result = \"Likely to Pass\"\n",
    "    elif final_prob >= 0.4:\n",
    "        result = \"At Risk\"\n",
    "    else:\n",
    "        result = \"Likely to Fail\"\n",
    "    \n",
    "    print(f\"\\n Final Prediction: {result} (Score: {final_prob:.2f})\")\n"
   ]
  },
  {
   "cell_type": "code",
   "execution_count": 62,
   "id": "4eadc48b-36c7-4353-b340-e945e4b43ca7",
   "metadata": {},
   "outputs": [
    {
     "name": "stdout",
     "output_type": "stream",
     "text": [
      "\n",
      "=== Enter your study features for English ===\n"
     ]
    },
    {
     "name": "stdin",
     "output_type": "stream",
     "text": [
      "First C.A test (0-20):  3\n",
      "Second C.A test (0-20):  3\n",
      "Third C.A test (0-20):  3\n"
     ]
    },
    {
     "name": "stdout",
     "output_type": "stream",
     "text": [
      "\n",
      " Starting difficulty based on past performance: Easy\n",
      "\n",
      "Q1: Choose the correct tense: They ___ to Lagos every weekend.\n",
      "Options: A. goes | B. go | C. going | D. gone\n"
     ]
    },
    {
     "name": "stdin",
     "output_type": "stream",
     "text": [
      "Your answer (A/B/C/D):  b\n"
     ]
    },
    {
     "name": "stdout",
     "output_type": "stream",
     "text": [
      " Correct!\n",
      "\n",
      "Q2: 'Once in a blue moon' means\n",
      "Options: A. very often | B. rarely | C. never | D. always\n"
     ]
    },
    {
     "name": "stdin",
     "output_type": "stream",
     "text": [
      "Your answer (A/B/C/D):  b\n"
     ]
    },
    {
     "name": "stdout",
     "output_type": "stream",
     "text": [
      " Correct!\n",
      "\n",
      "Q3: 'Judge' begins with the sound\n",
      "Options: A. /dʒ/ | B. /ʃ/ | C. /tʃ/ | D. /z/\n"
     ]
    },
    {
     "name": "stdin",
     "output_type": "stream",
     "text": [
      "Your answer (A/B/C/D):  a\n"
     ]
    },
    {
     "name": "stdout",
     "output_type": "stream",
     "text": [
      " Correct!\n",
      "\n",
      " Quiz Completed! Score: 100.0%\n",
      "\n",
      " Final Prediction: At Risk (Score: 0.40)\n"
     ]
    }
   ],
   "source": [
    "\n",
    "# Now run the adaptive quiz\n",
    "run_adaptive_quiz(\"English\", model, df, n=3)"
   ]
  },
  {
   "cell_type": "code",
   "execution_count": 70,
   "id": "d03a6096-dfcf-4ed2-99f3-15db2452a2da",
   "metadata": {},
   "outputs": [],
   "source": [
    "import pandas as pd\n",
    "import joblib\n",
    "\n",
    "# --- Load trained G1/G2/G3 model ---\n",
    "model4 = joblib.load(\"model4.pkl\")  # make sure path is correct\n",
    "\n",
    "# --- Adaptive cluster selector ---\n",
    "def pick_next_cluster(last_cluster, last_correct):\n",
    "    if last_correct:\n",
    "        next_cluster = min(last_cluster + 1, df[\"Cluster\"].max())\n",
    "    else:\n",
    "        next_cluster = max(last_cluster - 1, 0)\n",
    "    return next_cluster\n",
    "\n",
    "# --- Adaptive Quiz with Likely WAEC Grade ---\n",
    "def run_adaptive_quiz(subject, df, n=3):\n",
    "    \n",
    "    def get_valid_input(prompt, min_val=None, max_val=None):\n",
    "        while True:\n",
    "            try:\n",
    "                val = int(input(prompt))\n",
    "                if (min_val is not None and val < min_val) or (max_val is not None and val > max_val):\n",
    "                    print(f\"⚠️ Enter a value between {min_val} and {max_val}\")\n",
    "                    continue\n",
    "                return val\n",
    "            except ValueError:\n",
    "                print(\"⚠️ Invalid input, enter a number\")\n",
    "    \n",
    "    # Step 1: Collect G1/G2/G3\n",
    "    print(f\"\\n=== Enter your past scores for {subject} ===\")\n",
    "    G1 = get_valid_input(\"First C.A test (0-20): \", 0, 20)\n",
    "    G2 = get_valid_input(\"Second C.A test (0-20): \", 0, 20)\n",
    "    G3 = get_valid_input(\"Third C.A test (0-20): \", 0, 20)\n",
    "    \n",
    "    student_g123 = [[G1, G2, G3]]\n",
    "    \n",
    "    # Step 2: Predict starting cluster from model4\n",
    "    pred_grade = model4.predict(student_g123)[0]\n",
    "    grade_to_cluster = {'F':0, 'D':1, 'C':2, 'B':3, 'A':4}\n",
    "    current_cluster = grade_to_cluster.get(pred_grade, 2)  # default medium\n",
    "    \n",
    "    print(f\"\\n📊 Predicted starting grade: {pred_grade}, starting cluster: {current_cluster}\")\n",
    "    \n",
    "    # Step 3: Filter questions by subject\n",
    "    subject_questions = df[df['Subject'] == subject]\n",
    "    if subject_questions.empty:\n",
    "        print(f\" No questions available for {subject}\")\n",
    "        return\n",
    "    \n",
    "    # Step 4: Adaptive quiz loop\n",
    "    total_correct = 0\n",
    "    for i in range(n):\n",
    "        pool = subject_questions[subject_questions['Cluster'] == current_cluster]\n",
    "        if pool.empty:\n",
    "            print(\" No questions available for this cluster\")\n",
    "            break\n",
    "        \n",
    "        question = pool.sample(1).iloc[0]\n",
    "        print(f\"\\nQ{i+1}: {question['Question']}\")\n",
    "        print(f\"Options: {question['Options']}\")\n",
    "        \n",
    "        valid_options = ['A','B','C','D']\n",
    "        while True:\n",
    "            ans = input(\"Your answer (A/B/C/D): \").strip().upper()\n",
    "            if ans in valid_options:\n",
    "                break\n",
    "            print(\"Invalid input, enter A/B/C/D\")\n",
    "        \n",
    "        correct = ans == question['Answer'].strip().upper()\n",
    "        if correct:\n",
    "            print(\" Correct!\")\n",
    "            total_correct += 1\n",
    "        else:\n",
    "            print(f\"❌ Wrong! Correct answer: {question['Answer']}\")\n",
    "        \n",
    "        # Step 5: Update cluster\n",
    "        current_cluster = pick_next_cluster(current_cluster, correct)\n",
    "    \n",
    "    # Step 6: Compute quiz score\n",
    "    quiz_score = total_correct / n\n",
    "    print(f\"\\n📊 Quiz Completed! Score: {quiz_score*100:.1f}%\")\n",
    "    \n",
    "    # Step 7: Estimate WAEC grade\n",
    "    # We can combine model4 prediction and quiz performance\n",
    "    # Map quiz_score to a simple numeric scale for blending\n",
    "    score_to_numeric = quiz_score * 20  # convert 0-1 to 0-20 scale\n",
    "    avg_g123 = (G1 + G2 + G3) / 3\n",
    "    combined_score = 0.6 * avg_g123 + 0.4 * score_to_numeric\n",
    "    \n",
    "    # Map combined_score to WAEC grade\n",
    "    if combined_score >= 16:\n",
    "        likely_grade = 'A'\n",
    "    elif combined_score >= 13:\n",
    "        likely_grade = 'B'\n",
    "    elif combined_score >= 10:\n",
    "        likely_grade = 'C'\n",
    "    elif combined_score >= 7:\n",
    "        likely_grade = 'D'\n",
    "    else:\n",
    "        likely_grade = 'F'\n",
    "    \n",
    "    print(f\"🎯 Likely WAEC grade based on quiz & past scores: {likely_grade}\")\n"
   ]
  },
  {
   "cell_type": "code",
   "execution_count": 71,
   "id": "f83bf8fd-0f44-49b5-b426-82d03380a9ed",
   "metadata": {},
   "outputs": [
    {
     "name": "stdout",
     "output_type": "stream",
     "text": [
      "\n",
      "=== Enter your past scores for English ===\n"
     ]
    },
    {
     "name": "stdin",
     "output_type": "stream",
     "text": [
      "First C.A test (0-20):  13\n",
      "Second C.A test (0-20):  13\n",
      "Third C.A test (0-20):  13\n"
     ]
    },
    {
     "name": "stdout",
     "output_type": "stream",
     "text": [
      "\n",
      "📊 Predicted starting grade: 1, starting cluster: 2\n",
      "\n",
      "Q1: 'Under the weather' means\n",
      "Options: A. travelling | B. feeling unwell | C. outdoors | D. excited\n"
     ]
    },
    {
     "name": "stdin",
     "output_type": "stream",
     "text": [
      "Your answer (A/B/C/D):  A\n"
     ]
    },
    {
     "name": "stdout",
     "output_type": "stream",
     "text": [
      "❌ Wrong! Correct answer: B\n",
      "\n",
      "Q2: The minimal pair is\n",
      "Options: A. ship/sheep | B. cat/dog | C. man/men | D. thin/think\n"
     ]
    },
    {
     "name": "stdin",
     "output_type": "stream",
     "text": [
      "Your answer (A/B/C/D):  B\n"
     ]
    },
    {
     "name": "stdout",
     "output_type": "stream",
     "text": [
      "❌ Wrong! Correct answer: A\n",
      "\n",
      "Q3: If the author argues that education reduces poverty, the main idea is that\n",
      "Options: A. schools are expensive | B. education has no value | C. education alleviates poverty | D. teachers earn more\n"
     ]
    },
    {
     "name": "stdin",
     "output_type": "stream",
     "text": [
      "Your answer (A/B/C/D):  C\n"
     ]
    },
    {
     "name": "stdout",
     "output_type": "stream",
     "text": [
      " Correct!\n",
      "\n",
      "Q4: A paragraph that starts with 'First, Next, Finally' is organized\n",
      "Options: A. spatially | B. chronologically | C. randomly | D. point-by-point\n"
     ]
    },
    {
     "name": "stdin",
     "output_type": "stream",
     "text": [
      "Your answer (A/B/C/D):  C\n"
     ]
    },
    {
     "name": "stdout",
     "output_type": "stream",
     "text": [
      "❌ Wrong! Correct answer: B\n",
      "\n",
      "📊 Quiz Completed! Score: 25.0%\n",
      "🎯 Likely WAEC grade based on quiz & past scores: D\n"
     ]
    }
   ],
   "source": [
    "#run_adaptive_quiz(\"Mathematics\", df, n=3)\n",
    "run_adaptive_quiz(\"English\", df, n=4)\n"
   ]
  },
  {
   "cell_type": "raw",
   "id": "e65c59a7-631e-4edd-949f-da5efa69cd30",
   "metadata": {},
   "source": [
    "import pandas as pd\n",
    "import joblib\n",
    "\n",
    "# --- Load trained G1/G2/G3 model ---\n",
    "model4 = joblib.load(\"model4.pkl\")  # ensure correct path\n",
    "\n",
    "# --- Adaptive cluster selector ---\n",
    "def pick_next_cluster(last_cluster, last_correct, max_cluster):\n",
    "    if last_correct:\n",
    "        return min(last_cluster + 1, max_cluster)\n",
    "    else:\n",
    "        return max(last_cluster - 1, 0)\n",
    "\n",
    "# --- Map cluster to difficulty ---\n",
    "def cluster_to_difficulty(cluster):\n",
    "    if cluster <= 1:\n",
    "        return \"Easy\"\n",
    "    elif cluster <= 3:\n",
    "        return \"Medium\"\n",
    "    else:\n",
    "        return \"Hard\"\n",
    "\n",
    "# --- Adaptive Quiz using G1/G2/G3 to start, quiz score for Pass/Fail ---\n",
    "def run_adaptive_quiz(subject, df_questions, n=3):\n",
    "    \n",
    "    def get_valid_input(prompt, min_val=0, max_val=20):\n",
    "        while True:\n",
    "            try:\n",
    "                val = int(input(prompt))\n",
    "                if val < min_val or val > max_val:\n",
    "                    print(f\"⚠️ Enter a value between {min_val} and {max_val}\")\n",
    "                    continue\n",
    "                return val\n",
    "            except ValueError:\n",
    "                print(\"⚠️ Invalid input, enter a number\")\n",
    "    \n",
    "    # Step 1: Collect G1/G2/G3\n",
    "    print(f\"\\n=== Enter your past scores for {subject} ===\")\n",
    "    G1 = get_valid_input(\"First C.A test (0-20): \")\n",
    "    G2 = get_valid_input(\"Second C.A test (0-20): \")\n",
    "    G3 = get_valid_input(\"Third C.A test (0-20): \")\n",
    "    \n",
    "    # Step 2: Predict starting cluster from G1/G2/G3\n",
    "    student_g123 = [[G1, G2, G3]]\n",
    "    pred_grade = model4.predict(student_g123)[0]\n",
    "    grade_to_cluster = {'F':0, 'D':1, 'C':2, 'B':3, 'A':4}\n",
    "    current_cluster = grade_to_cluster.get(pred_grade, 2)  # default medium\n",
    "    \n",
    "    print(f\"\\n📊 Predicted starting grade: {pred_grade}, starting cluster: {current_cluster} ({cluster_to_difficulty(current_cluster)})\")\n",
    "    \n",
    "    # Step 3: Filter questions by subject\n",
    "    subject_questions = df_questions[df_questions['Subject'] == subject]\n",
    "    if subject_questions.empty:\n",
    "        print(f\"⚠️ No questions available for {subject}\")\n",
    "        return\n",
    "    \n",
    "    max_cluster = subject_questions['Cluster'].max()\n",
    "    \n",
    "    # Step 4: Adaptive quiz loop\n",
    "    total_correct = 0\n",
    "    for i in range(n):\n",
    "        pool = subject_questions[subject_questions['Cluster'] == current_cluster]\n",
    "        if pool.empty:\n",
    "            print(\"⚠️ No questions available for this cluster\")\n",
    "            break\n",
    "        \n",
    "        question = pool.sample(1).iloc[0]\n",
    "        difficulty = cluster_to_difficulty(current_cluster)\n",
    "        print(f\"\\nQ{i+1} ({difficulty}): {question['Question']}\")\n",
    "        print(f\"Options: {question['Options']}\")\n",
    "        \n",
    "        valid_options = ['A','B','C','D']\n",
    "        while True:\n",
    "            ans = input(\"Your answer (A/B/C/D): \").strip().upper()\n",
    "            if ans in valid_options:\n",
    "                break\n",
    "            print(\"⚠️ Invalid input, enter A/B/C/D\")\n",
    "        \n",
    "        correct = ans == question['Answer'].strip().upper()\n",
    "        if correct:\n",
    "            print(\"✅ Correct!\")\n",
    "            total_correct += 1\n",
    "        else:\n",
    "            print(f\"❌ Wrong! Correct answer: {question['Answer']}\")\n",
    "        \n",
    "        # Step 5: Update cluster adaptively\n",
    "        current_cluster = pick_next_cluster(current_cluster, correct, max_cluster)\n",
    "    \n",
    "    # Step 6: Compute quiz score\n",
    "    quiz_score = total_correct / n\n",
    "    print(f\"\\n📊 Quiz Completed! Score: {quiz_score*100:.1f}%\")\n",
    "    \n",
    "    # Step 7: Predict Likely Pass / Fail based solely on quiz score\n",
    "    if quiz_score >= 0.5:  # threshold can be adjusted\n",
    "        result = \"Likely to Pass\"\n",
    "    else:\n",
    "        result = \"At Risk / Likely to Fail\"\n",
    "    \n",
    "    print(f\"🎯 Based solely on quiz performance: {result}\")\n"
   ]
  },
  {
   "cell_type": "code",
   "execution_count": 75,
   "id": "c62f3bec-5922-4431-ab53-e3509cd3a6c5",
   "metadata": {},
   "outputs": [
    {
     "name": "stdout",
     "output_type": "stream",
     "text": [
      "\n",
      "=== Enter your past scores for English ===\n"
     ]
    },
    {
     "name": "stdin",
     "output_type": "stream",
     "text": [
      "First C.A test (0-20):  20\n",
      "Second C.A test (0-20):  20\n",
      "Third C.A test (0-20):  20\n"
     ]
    },
    {
     "name": "stdout",
     "output_type": "stream",
     "text": [
      "\n",
      "📊 Predicted starting grade: 0, starting cluster: 2 (Medium)\n",
      "\n",
      "Q1 (Medium): 'Break the ice' means to\n",
      "Options: A. start a conversation | B. freeze water | C. fight | D. sing\n"
     ]
    },
    {
     "name": "stdin",
     "output_type": "stream",
     "text": [
      "Your answer (A/B/C/D):  c\n"
     ]
    },
    {
     "name": "stdout",
     "output_type": "stream",
     "text": [
      "❌ Wrong! Correct answer: A\n",
      "\n",
      "Q2 (Easy): A paragraph that starts with 'First, Next, Finally' is organized\n",
      "Options: A. spatially | B. chronologically | C. randomly | D. point-by-point\n"
     ]
    },
    {
     "name": "stdin",
     "output_type": "stream",
     "text": [
      "Your answer (A/B/C/D):  c\n"
     ]
    },
    {
     "name": "stdout",
     "output_type": "stream",
     "text": [
      "❌ Wrong! Correct answer: B\n",
      "\n",
      "Q3 (Easy): A passage states: 'The policy had unintended effects.' This implies the effects were\n",
      "Options: A. deliberate | B. accidental | C. beneficial | D. planned\n"
     ]
    },
    {
     "name": "stdin",
     "output_type": "stream",
     "text": [
      "Your answer (A/B/C/D):  c\n"
     ]
    },
    {
     "name": "stdout",
     "output_type": "stream",
     "text": [
      "❌ Wrong! Correct answer: B\n",
      "\n",
      "Q4 (Easy): An author's bias in a passage refers to\n",
      "Options: A. the setting | B. the point of view/slant | C. the grammar | D. the length\n"
     ]
    },
    {
     "name": "stdin",
     "output_type": "stream",
     "text": [
      "Your answer (A/B/C/D):  c\n"
     ]
    },
    {
     "name": "stdout",
     "output_type": "stream",
     "text": [
      "❌ Wrong! Correct answer: B\n",
      "\n",
      "📊 Quiz Completed! Score: 0.0%\n",
      "🎯 Based solely on quiz performance: At Risk / Likely to Fail\n"
     ]
    }
   ],
   "source": [
    "run_adaptive_quiz(\"Mathematics\", df, n=4)\n"
   ]
  },
  {
   "cell_type": "code",
   "execution_count": 76,
   "id": "48488bb0-9ed7-4a67-8d6e-74b2dcc10182",
   "metadata": {},
   "outputs": [],
   "source": [
    "import pandas as pd\n",
    "import joblib\n",
    "\n",
    "# --- Load trained G1/G2/G3 model ---\n",
    "model4 = joblib.load(\"model4.pkl\")  # ensure correct path\n",
    "\n",
    "# --- Adaptive cluster selector ---\n",
    "def pick_next_cluster(last_cluster, last_correct, max_cluster):\n",
    "    if last_correct:\n",
    "        return min(last_cluster + 1, max_cluster)\n",
    "    else:\n",
    "        return max(last_cluster - 1, 0)\n",
    "\n",
    "# --- Map cluster to difficulty ---\n",
    "def cluster_to_difficulty(cluster):\n",
    "    if cluster <= 1:\n",
    "        return \"Easy\"\n",
    "    elif cluster <= 3:\n",
    "        return \"Medium\"\n",
    "    else:\n",
    "        return \"Hard\"\n",
    "\n",
    "# --- Fully Adaptive Quiz ---\n",
    "def run_adaptive_quiz(subject, df_questions):\n",
    "    \n",
    "    def get_valid_input(prompt, min_val=0, max_val=20):\n",
    "        while True:\n",
    "            try:\n",
    "                val = int(input(prompt))\n",
    "                if val < min_val or val > max_val:\n",
    "                    print(f\"⚠️ Enter a value between {min_val} and {max_val}\")\n",
    "                    continue\n",
    "                return val\n",
    "            except ValueError:\n",
    "                print(\"⚠️ Invalid input, enter a number\")\n",
    "    \n",
    "    # Step 1: Collect G1/G2/G3\n",
    "    print(f\"\\n=== Enter your past scores for {subject} ===\")\n",
    "    G1 = get_valid_input(\"First C.A test (0-20): \")\n",
    "    G2 = get_valid_input(\"Second C.A test (0-20): \")\n",
    "    G3 = get_valid_input(\"Third C.A test (0-20): \")\n",
    "    \n",
    "    # Step 2: Predict starting cluster from G1/G2/G3\n",
    "    student_g123 = [[G1, G2, G3]]\n",
    "    pred_grade = model4.predict(student_g123)[0]\n",
    "    grade_to_cluster = {'F':0, 'D':1, 'C':2, 'B':3, 'A':4}\n",
    "    current_cluster = grade_to_cluster.get(pred_grade, 2)\n",
    "    \n",
    "    print(f\"\\n📊 Predicted starting grade: {pred_grade}, starting cluster: {current_cluster} ({cluster_to_difficulty(current_cluster)})\")\n",
    "    \n",
    "    # Step 3: Filter questions by subject\n",
    "    subject_questions = df_questions[df_questions['Subject'] == subject]\n",
    "    if subject_questions.empty:\n",
    "        print(f\"⚠️ No questions available for {subject}\")\n",
    "        return\n",
    "    \n",
    "    max_cluster = subject_questions['Cluster'].max()\n",
    "    total_questions = 0\n",
    "    total_correct = 0\n",
    "    \n",
    "    # Step 4: Continuous adaptive quiz\n",
    "    while True:\n",
    "        pool = subject_questions[subject_questions['Cluster'] == current_cluster]\n",
    "        if pool.empty:\n",
    "            print(\"⚠️ No questions available for this cluster\")\n",
    "            break\n",
    "        \n",
    "        question = pool.sample(1).iloc[0]\n",
    "        difficulty = cluster_to_difficulty(current_cluster)\n",
    "        print(f\"\\nQ{total_questions+1} ({difficulty}): {question['Question']}\")\n",
    "        print(f\"Options: {question['Options']}\")\n",
    "        \n",
    "        valid_options = ['A','B','C','D']\n",
    "        while True:\n",
    "            ans = input(\"Your answer (A/B/C/D or Q to quit): \").strip().upper()\n",
    "            if ans == 'Q':\n",
    "                print(\"🛑 Quiz ended by user.\")\n",
    "                break\n",
    "            if ans in valid_options:\n",
    "                break\n",
    "            print(\"⚠️ Invalid input, enter A/B/C/D or Q to quit\")\n",
    "        if ans == 'Q':\n",
    "            break\n",
    "        \n",
    "        correct = ans == question['Answer'].strip().upper()\n",
    "        if correct:\n",
    "            print(\"✅ Correct!\")\n",
    "            total_correct += 1\n",
    "        else:\n",
    "            print(f\"❌ Wrong! Correct answer: {question['Answer']}\")\n",
    "        \n",
    "        total_questions += 1\n",
    "        current_cluster = pick_next_cluster(current_cluster, correct, max_cluster)\n",
    "    \n",
    "    if total_questions == 0:\n",
    "        print(\"No questions attempted.\")\n",
    "        return\n",
    "    \n",
    "    # Step 5: Compute quiz score\n",
    "    quiz_score = total_correct / total_questions\n",
    "    print(f\"\\n📊 Quiz Completed! Score: {quiz_score*100:.1f}% ({total_correct}/{total_questions})\")\n",
    "    \n",
    "    # Step 6: Predict Likely Pass / Fail based on quiz score only\n",
    "    if quiz_score >= 0.5:\n",
    "        result = \"Likely to Pass\"\n",
    "    else:\n",
    "        result = \"At Risk / Likely to Fail\"\n",
    "    \n",
    "    print(f\"🎯 Based solely on quiz performance: {result}\")\n"
   ]
  },
  {
   "cell_type": "code",
   "execution_count": 79,
   "id": "15aae68c-36c6-4cae-bc49-7c80e561fc93",
   "metadata": {},
   "outputs": [
    {
     "name": "stdout",
     "output_type": "stream",
     "text": [
      "\n",
      "=== Enter your past scores for English ===\n"
     ]
    },
    {
     "name": "stdin",
     "output_type": "stream",
     "text": [
      "First C.A test (0-20):  3\n",
      "Second C.A test (0-20):  3\n",
      "Third C.A test (0-20):  3\n"
     ]
    },
    {
     "name": "stdout",
     "output_type": "stream",
     "text": [
      "\n",
      "📊 Predicted starting grade: 4, starting cluster: 2 (Medium)\n",
      "\n",
      "Q1 (Medium): 'Once in a blue moon' means\n",
      "Options: A. very often | B. rarely | C. never | D. always\n"
     ]
    },
    {
     "name": "stdin",
     "output_type": "stream",
     "text": [
      "Your answer (A/B/C/D or Q to quit):  a\n"
     ]
    },
    {
     "name": "stdout",
     "output_type": "stream",
     "text": [
      "❌ Wrong! Correct answer: B\n",
      "\n",
      "Q2 (Easy): Identify the error: He did not went there yesterday.\n",
      "Options: A. did not went | B. went there | C. yesterday | D. He\n"
     ]
    },
    {
     "name": "stdin",
     "output_type": "stream",
     "text": [
      "Your answer (A/B/C/D or Q to quit):  a\n"
     ]
    },
    {
     "name": "stdout",
     "output_type": "stream",
     "text": [
      "✅ Correct!\n",
      "\n",
      "Q3 (Medium): Choose the correct idiom: He kicked the bucket means he\n",
      "Options: A. broke a bucket | B. became angry | C. died | D. lost money\n"
     ]
    },
    {
     "name": "stdin",
     "output_type": "stream",
     "text": [
      "Your answer (A/B/C/D or Q to quit):  a\n"
     ]
    },
    {
     "name": "stdout",
     "output_type": "stream",
     "text": [
      "❌ Wrong! Correct answer: C\n",
      "\n",
      "Q4 (Easy): If a paragraph ends with 'Therefore', the next sentence will most likely present\n",
      "Options: A. an example | B. a conclusion | C. a definition | D. a story\n"
     ]
    },
    {
     "name": "stdin",
     "output_type": "stream",
     "text": [
      "Your answer (A/B/C/D or Q to quit):  c\n"
     ]
    },
    {
     "name": "stdout",
     "output_type": "stream",
     "text": [
      "❌ Wrong! Correct answer: B\n",
      "\n",
      "Q5 (Easy): Primary stress in 'education' falls on\n",
      "Options: A. first | B. second | C. third | D. fourth\n"
     ]
    },
    {
     "name": "stdin",
     "output_type": "stream",
     "text": [
      "Your answer (A/B/C/D or Q to quit):  a\n"
     ]
    },
    {
     "name": "stdout",
     "output_type": "stream",
     "text": [
      "❌ Wrong! Correct answer: C\n",
      "\n",
      "Q6 (Easy): An author's bias in a passage refers to\n",
      "Options: A. the setting | B. the point of view/slant | C. the grammar | D. the length\n"
     ]
    },
    {
     "name": "stdin",
     "output_type": "stream",
     "text": [
      "Your answer (A/B/C/D or Q to quit):  b\n"
     ]
    },
    {
     "name": "stdout",
     "output_type": "stream",
     "text": [
      "✅ Correct!\n",
      "\n",
      "Q7 (Easy): Identify the error: He did not went there yesterday.\n",
      "Options: A. did not went | B. went there | C. yesterday | D. He\n"
     ]
    },
    {
     "name": "stdin",
     "output_type": "stream",
     "text": [
      "Your answer (A/B/C/D or Q to quit):  b\n"
     ]
    },
    {
     "name": "stdout",
     "output_type": "stream",
     "text": [
      "❌ Wrong! Correct answer: A\n",
      "\n",
      "Q8 (Easy): A passage states: 'The policy had unintended effects.' This implies the effects were\n",
      "Options: A. deliberate | B. accidental | C. beneficial | D. planned\n"
     ]
    },
    {
     "name": "stdin",
     "output_type": "stream",
     "text": [
      "Your answer (A/B/C/D or Q to quit):  b\n"
     ]
    },
    {
     "name": "stdout",
     "output_type": "stream",
     "text": [
      "✅ Correct!\n",
      "\n",
      "Q9 (Easy): Fill the gap: He has lived here ___ 2019.\n",
      "Options: A. since | B. for | C. from | D. in\n"
     ]
    },
    {
     "name": "stdin",
     "output_type": "stream",
     "text": [
      "Your answer (A/B/C/D or Q to quit):  b\n"
     ]
    },
    {
     "name": "stdout",
     "output_type": "stream",
     "text": [
      "❌ Wrong! Correct answer: A\n",
      "\n",
      "Q10 (Easy): If the author argues that education reduces poverty, the main idea is that\n",
      "Options: A. schools are expensive | B. education has no value | C. education alleviates poverty | D. teachers earn more\n"
     ]
    },
    {
     "name": "stdin",
     "output_type": "stream",
     "text": [
      "Your answer (A/B/C/D or Q to quit):  b\n"
     ]
    },
    {
     "name": "stdout",
     "output_type": "stream",
     "text": [
      "❌ Wrong! Correct answer: C\n",
      "\n",
      "Q11 (Easy): Primary stress in 'education' falls on\n",
      "Options: A. first | B. second | C. third | D. fourth\n"
     ]
    },
    {
     "name": "stdin",
     "output_type": "stream",
     "text": [
      "Your answer (A/B/C/D or Q to quit):  b\n"
     ]
    },
    {
     "name": "stdout",
     "output_type": "stream",
     "text": [
      "❌ Wrong! Correct answer: C\n",
      "\n",
      "Q12 (Easy): A 'counter-argument' in a passage is\n",
      "Options: A. the thesis | B. an opposing point | C. a summary | D. a definition\n"
     ]
    },
    {
     "name": "stdin",
     "output_type": "stream",
     "text": [
      "Your answer (A/B/C/D or Q to quit):  c\n"
     ]
    },
    {
     "name": "stdout",
     "output_type": "stream",
     "text": [
      "❌ Wrong! Correct answer: B\n",
      "\n",
      "Q13 (Easy): An author's bias in a passage refers to\n",
      "Options: A. the setting | B. the point of view/slant | C. the grammar | D. the length\n"
     ]
    },
    {
     "name": "stdin",
     "output_type": "stream",
     "text": [
      "Your answer (A/B/C/D or Q to quit):  a\n"
     ]
    },
    {
     "name": "stdout",
     "output_type": "stream",
     "text": [
      "❌ Wrong! Correct answer: B\n",
      "\n",
      "Q14 (Easy): A passage states: 'The policy had unintended effects.' This implies the effects were\n",
      "Options: A. deliberate | B. accidental | C. beneficial | D. planned\n"
     ]
    },
    {
     "name": "stdin",
     "output_type": "stream",
     "text": [
      "Your answer (A/B/C/D or Q to quit):  b\n"
     ]
    },
    {
     "name": "stdout",
     "output_type": "stream",
     "text": [
      "✅ Correct!\n",
      "\n",
      "Q15 (Easy): Fill the gap: He has lived here ___ 2019.\n",
      "Options: A. since | B. for | C. from | D. in\n"
     ]
    },
    {
     "name": "stdin",
     "output_type": "stream",
     "text": [
      "Your answer (A/B/C/D or Q to quit):  c\n"
     ]
    },
    {
     "name": "stdout",
     "output_type": "stream",
     "text": [
      "❌ Wrong! Correct answer: A\n",
      "\n",
      "Q16 (Easy): Primary stress in 'education' falls on\n",
      "Options: A. first | B. second | C. third | D. fourth\n"
     ]
    },
    {
     "name": "stdin",
     "output_type": "stream",
     "text": [
      "Your answer (A/B/C/D or Q to quit):  c\n"
     ]
    },
    {
     "name": "stdout",
     "output_type": "stream",
     "text": [
      "✅ Correct!\n",
      "\n",
      "Q17 (Easy): The minimal pair is\n",
      "Options: A. ship/sheep | B. cat/dog | C. man/men | D. thin/think\n"
     ]
    },
    {
     "name": "stdin",
     "output_type": "stream",
     "text": [
      "Your answer (A/B/C/D or Q to quit):  a\n"
     ]
    },
    {
     "name": "stdout",
     "output_type": "stream",
     "text": [
      "✅ Correct!\n",
      "\n",
      "Q18 (Medium): 'On cloud nine' means\n",
      "Options: A. very sad | B. very happy | C. very tired | D. very angry\n"
     ]
    },
    {
     "name": "stdin",
     "output_type": "stream",
     "text": [
      "Your answer (A/B/C/D or Q to quit):  c\n"
     ]
    },
    {
     "name": "stdout",
     "output_type": "stream",
     "text": [
      "❌ Wrong! Correct answer: B\n",
      "\n",
      "Q19 (Easy): Choose the correct option: Neither James nor his friends ___ going today.\n",
      "Options: A. is | B. are | C. be | D. were\n"
     ]
    },
    {
     "name": "stdin",
     "output_type": "stream",
     "text": [
      "Your answer (A/B/C/D or Q to quit):  c\n"
     ]
    },
    {
     "name": "stdout",
     "output_type": "stream",
     "text": [
      "❌ Wrong! Correct answer: B\n",
      "\n",
      "Q20 (Easy): 'The tone of the passage is satirical' means it is\n",
      "Options: A. serious | B. mocking | C. boring | D. neutral\n"
     ]
    },
    {
     "name": "stdin",
     "output_type": "stream",
     "text": [
      "Your answer (A/B/C/D or Q to quit):  a\n"
     ]
    },
    {
     "name": "stdout",
     "output_type": "stream",
     "text": [
      "❌ Wrong! Correct answer: B\n",
      "\n",
      "Q21 (Easy): Primary stress in 'education' falls on\n",
      "Options: A. first | B. second | C. third | D. fourth\n"
     ]
    },
    {
     "name": "stdin",
     "output_type": "stream",
     "text": [
      "Your answer (A/B/C/D or Q to quit):  Q\n"
     ]
    },
    {
     "name": "stdout",
     "output_type": "stream",
     "text": [
      "🛑 Quiz ended by user.\n",
      "\n",
      "📊 Quiz Completed! Score: 30.0% (6/20)\n",
      "🎯 Based solely on quiz performance: At Risk / Likely to Fail\n"
     ]
    }
   ],
   "source": [
    "run_adaptive_quiz(\"English\", df)\n"
   ]
  },
  {
   "cell_type": "code",
   "execution_count": null,
   "id": "dc258c19-4aaa-49db-8285-74a9e4be0792",
   "metadata": {},
   "outputs": [],
   "source": []
  }
 ],
 "metadata": {
  "kernelspec": {
   "display_name": "Python 3 (ipykernel)",
   "language": "python",
   "name": "python3"
  },
  "language_info": {
   "codemirror_mode": {
    "name": "ipython",
    "version": 3
   },
   "file_extension": ".py",
   "mimetype": "text/x-python",
   "name": "python",
   "nbconvert_exporter": "python",
   "pygments_lexer": "ipython3",
   "version": "3.13.2"
  },
  "widgets": {
   "application/vnd.jupyter.widget-state+json": {
    "state": {},
    "version_major": 2,
    "version_minor": 0
   }
  }
 },
 "nbformat": 4,
 "nbformat_minor": 5
}
